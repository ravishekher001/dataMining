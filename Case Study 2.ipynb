{
 "cells": [
  {
   "cell_type": "markdown",
   "metadata": {},
   "source": [
    "Goal of this case study is to take some stock and do some time series analysis. Essentially find the best p, d and q values for your ARIMA model.\n",
    "- Talk breifly about ARIMA model\n",
    "- Talk about p d q terms\n",
    "- Get the stock data for JPMC\n",
    "\n",
    "Time series forecasting can be framed as a supervised learning problem. This re-framing of time series data allows one to access the suite of standard linear and nonlinear machine learning algorithms for the problem at hand."
   ]
  },
  {
   "cell_type": "code",
   "execution_count": 1,
   "metadata": {},
   "outputs": [],
   "source": [
    "import pandas as pd\n",
    "from pandas import read_csv\n",
    "from pandas import datetime\n",
    "from matplotlib import pyplot as plt\n",
    "import matplotlib \n",
    "%matplotlib inline"
   ]
  },
  {
   "cell_type": "code",
   "execution_count": 2,
   "metadata": {},
   "outputs": [],
   "source": [
    "from pandas_datareader import data as web"
   ]
  },
  {
   "cell_type": "code",
   "execution_count": 3,
   "metadata": {},
   "outputs": [],
   "source": [
    "import datetime"
   ]
  },
  {
   "cell_type": "code",
   "execution_count": 9,
   "metadata": {},
   "outputs": [],
   "source": [
    "start = datetime.datetime(2014, 1, 1)\n",
    "end = datetime.datetime(2018, 5, 31)"
   ]
  },
  {
   "cell_type": "code",
   "execution_count": 10,
   "metadata": {},
   "outputs": [
    {
     "name": "stdout",
     "output_type": "stream",
     "text": [
      "5y\n"
     ]
    },
    {
     "data": {
      "text/html": [
       "<div>\n",
       "<style scoped>\n",
       "    .dataframe tbody tr th:only-of-type {\n",
       "        vertical-align: middle;\n",
       "    }\n",
       "\n",
       "    .dataframe tbody tr th {\n",
       "        vertical-align: top;\n",
       "    }\n",
       "\n",
       "    .dataframe thead th {\n",
       "        text-align: right;\n",
       "    }\n",
       "</style>\n",
       "<table border=\"1\" class=\"dataframe\">\n",
       "  <thead>\n",
       "    <tr style=\"text-align: right;\">\n",
       "      <th></th>\n",
       "      <th>open</th>\n",
       "      <th>high</th>\n",
       "      <th>low</th>\n",
       "      <th>close</th>\n",
       "      <th>volume</th>\n",
       "    </tr>\n",
       "    <tr>\n",
       "      <th>date</th>\n",
       "      <th></th>\n",
       "      <th></th>\n",
       "      <th></th>\n",
       "      <th></th>\n",
       "      <th></th>\n",
       "    </tr>\n",
       "  </thead>\n",
       "  <tbody>\n",
       "    <tr>\n",
       "      <th>2014-01-02</th>\n",
       "      <td>52.3071</td>\n",
       "      <td>52.4775</td>\n",
       "      <td>52.0061</td>\n",
       "      <td>52.2174</td>\n",
       "      <td>15637267</td>\n",
       "    </tr>\n",
       "    <tr>\n",
       "      <th>2014-01-03</th>\n",
       "      <td>52.2892</td>\n",
       "      <td>52.8812</td>\n",
       "      <td>52.2174</td>\n",
       "      <td>52.6211</td>\n",
       "      <td>14220320</td>\n",
       "    </tr>\n",
       "    <tr>\n",
       "      <th>2014-01-06</th>\n",
       "      <td>53.0696</td>\n",
       "      <td>53.3432</td>\n",
       "      <td>52.7736</td>\n",
       "      <td>52.9261</td>\n",
       "      <td>17562447</td>\n",
       "    </tr>\n",
       "    <tr>\n",
       "      <th>2014-01-07</th>\n",
       "      <td>53.1862</td>\n",
       "      <td>53.3118</td>\n",
       "      <td>52.1277</td>\n",
       "      <td>52.3161</td>\n",
       "      <td>17869722</td>\n",
       "    </tr>\n",
       "    <tr>\n",
       "      <th>2014-01-08</th>\n",
       "      <td>52.5134</td>\n",
       "      <td>52.8453</td>\n",
       "      <td>52.2981</td>\n",
       "      <td>52.8094</td>\n",
       "      <td>14694818</td>\n",
       "    </tr>\n",
       "    <tr>\n",
       "      <th>2014-01-09</th>\n",
       "      <td>52.9081</td>\n",
       "      <td>52.9261</td>\n",
       "      <td>52.3250</td>\n",
       "      <td>52.7108</td>\n",
       "      <td>13248583</td>\n",
       "    </tr>\n",
       "    <tr>\n",
       "      <th>2014-01-10</th>\n",
       "      <td>52.6300</td>\n",
       "      <td>52.7108</td>\n",
       "      <td>52.1860</td>\n",
       "      <td>52.4686</td>\n",
       "      <td>12704391</td>\n",
       "    </tr>\n",
       "    <tr>\n",
       "      <th>2014-01-13</th>\n",
       "      <td>52.4865</td>\n",
       "      <td>52.6300</td>\n",
       "      <td>51.6074</td>\n",
       "      <td>51.7599</td>\n",
       "      <td>20773435</td>\n",
       "    </tr>\n",
       "    <tr>\n",
       "      <th>2014-01-14</th>\n",
       "      <td>52.2981</td>\n",
       "      <td>52.5493</td>\n",
       "      <td>51.6343</td>\n",
       "      <td>51.7958</td>\n",
       "      <td>30318950</td>\n",
       "    </tr>\n",
       "    <tr>\n",
       "      <th>2014-01-15</th>\n",
       "      <td>51.7868</td>\n",
       "      <td>53.5091</td>\n",
       "      <td>51.7868</td>\n",
       "      <td>53.3656</td>\n",
       "      <td>35223534</td>\n",
       "    </tr>\n",
       "    <tr>\n",
       "      <th>2014-01-16</th>\n",
       "      <td>52.7377</td>\n",
       "      <td>53.6616</td>\n",
       "      <td>52.6928</td>\n",
       "      <td>52.9171</td>\n",
       "      <td>21691909</td>\n",
       "    </tr>\n",
       "    <tr>\n",
       "      <th>2014-01-17</th>\n",
       "      <td>53.1144</td>\n",
       "      <td>53.1324</td>\n",
       "      <td>52.0559</td>\n",
       "      <td>52.1277</td>\n",
       "      <td>21064942</td>\n",
       "    </tr>\n",
       "    <tr>\n",
       "      <th>2014-01-21</th>\n",
       "      <td>52.1097</td>\n",
       "      <td>52.4237</td>\n",
       "      <td>51.6522</td>\n",
       "      <td>52.1815</td>\n",
       "      <td>19559288</td>\n",
       "    </tr>\n",
       "    <tr>\n",
       "      <th>2014-01-22</th>\n",
       "      <td>52.3250</td>\n",
       "      <td>52.3250</td>\n",
       "      <td>51.5087</td>\n",
       "      <td>51.6612</td>\n",
       "      <td>15484711</td>\n",
       "    </tr>\n",
       "    <tr>\n",
       "      <th>2014-01-23</th>\n",
       "      <td>51.2127</td>\n",
       "      <td>51.2217</td>\n",
       "      <td>50.4233</td>\n",
       "      <td>50.6565</td>\n",
       "      <td>26243452</td>\n",
       "    </tr>\n",
       "    <tr>\n",
       "      <th>2014-01-24</th>\n",
       "      <td>50.2349</td>\n",
       "      <td>50.5578</td>\n",
       "      <td>49.4186</td>\n",
       "      <td>49.4186</td>\n",
       "      <td>27111279</td>\n",
       "    </tr>\n",
       "    <tr>\n",
       "      <th>2014-01-27</th>\n",
       "      <td>49.4096</td>\n",
       "      <td>50.0510</td>\n",
       "      <td>49.0616</td>\n",
       "      <td>49.4186</td>\n",
       "      <td>23944206</td>\n",
       "    </tr>\n",
       "    <tr>\n",
       "      <th>2014-01-28</th>\n",
       "      <td>49.6877</td>\n",
       "      <td>50.5369</td>\n",
       "      <td>49.5531</td>\n",
       "      <td>50.0017</td>\n",
       "      <td>18061718</td>\n",
       "    </tr>\n",
       "    <tr>\n",
       "      <th>2014-01-29</th>\n",
       "      <td>49.3020</td>\n",
       "      <td>50.1183</td>\n",
       "      <td>49.2033</td>\n",
       "      <td>49.8133</td>\n",
       "      <td>25471398</td>\n",
       "    </tr>\n",
       "    <tr>\n",
       "      <th>2014-01-30</th>\n",
       "      <td>50.2977</td>\n",
       "      <td>50.5848</td>\n",
       "      <td>49.9030</td>\n",
       "      <td>50.2349</td>\n",
       "      <td>17060108</td>\n",
       "    </tr>\n",
       "    <tr>\n",
       "      <th>2014-01-31</th>\n",
       "      <td>49.7864</td>\n",
       "      <td>50.3336</td>\n",
       "      <td>49.4993</td>\n",
       "      <td>49.6608</td>\n",
       "      <td>18201808</td>\n",
       "    </tr>\n",
       "    <tr>\n",
       "      <th>2014-02-03</th>\n",
       "      <td>49.7864</td>\n",
       "      <td>50.1631</td>\n",
       "      <td>48.6202</td>\n",
       "      <td>48.7189</td>\n",
       "      <td>28572189</td>\n",
       "    </tr>\n",
       "    <tr>\n",
       "      <th>2014-02-04</th>\n",
       "      <td>49.0867</td>\n",
       "      <td>49.6518</td>\n",
       "      <td>48.9790</td>\n",
       "      <td>49.2930</td>\n",
       "      <td>20775934</td>\n",
       "    </tr>\n",
       "    <tr>\n",
       "      <th>2014-02-05</th>\n",
       "      <td>49.4276</td>\n",
       "      <td>49.7415</td>\n",
       "      <td>48.9611</td>\n",
       "      <td>49.5262</td>\n",
       "      <td>19499578</td>\n",
       "    </tr>\n",
       "    <tr>\n",
       "      <th>2014-02-06</th>\n",
       "      <td>49.6518</td>\n",
       "      <td>50.7283</td>\n",
       "      <td>49.5173</td>\n",
       "      <td>50.6655</td>\n",
       "      <td>20921199</td>\n",
       "    </tr>\n",
       "    <tr>\n",
       "      <th>2014-02-07</th>\n",
       "      <td>50.8180</td>\n",
       "      <td>51.0692</td>\n",
       "      <td>50.4637</td>\n",
       "      <td>50.7911</td>\n",
       "      <td>25065229</td>\n",
       "    </tr>\n",
       "    <tr>\n",
       "      <th>2014-02-10</th>\n",
       "      <td>50.9256</td>\n",
       "      <td>51.0602</td>\n",
       "      <td>50.5848</td>\n",
       "      <td>50.8987</td>\n",
       "      <td>14727327</td>\n",
       "    </tr>\n",
       "    <tr>\n",
       "      <th>2014-02-11</th>\n",
       "      <td>50.7821</td>\n",
       "      <td>51.6433</td>\n",
       "      <td>50.7552</td>\n",
       "      <td>51.5177</td>\n",
       "      <td>18817088</td>\n",
       "    </tr>\n",
       "    <tr>\n",
       "      <th>2014-02-12</th>\n",
       "      <td>51.4370</td>\n",
       "      <td>51.7689</td>\n",
       "      <td>51.2755</td>\n",
       "      <td>51.5984</td>\n",
       "      <td>13447621</td>\n",
       "    </tr>\n",
       "    <tr>\n",
       "      <th>2014-02-13</th>\n",
       "      <td>51.1947</td>\n",
       "      <td>52.1187</td>\n",
       "      <td>51.0961</td>\n",
       "      <td>52.0559</td>\n",
       "      <td>16607191</td>\n",
       "    </tr>\n",
       "    <tr>\n",
       "      <th>...</th>\n",
       "      <td>...</td>\n",
       "      <td>...</td>\n",
       "      <td>...</td>\n",
       "      <td>...</td>\n",
       "      <td>...</td>\n",
       "    </tr>\n",
       "    <tr>\n",
       "      <th>2018-04-19</th>\n",
       "      <td>109.5300</td>\n",
       "      <td>111.8700</td>\n",
       "      <td>109.5000</td>\n",
       "      <td>111.7200</td>\n",
       "      <td>17910955</td>\n",
       "    </tr>\n",
       "    <tr>\n",
       "      <th>2018-04-20</th>\n",
       "      <td>112.3000</td>\n",
       "      <td>112.7400</td>\n",
       "      <td>110.8800</td>\n",
       "      <td>111.4700</td>\n",
       "      <td>15584384</td>\n",
       "    </tr>\n",
       "    <tr>\n",
       "      <th>2018-04-23</th>\n",
       "      <td>111.5700</td>\n",
       "      <td>111.9500</td>\n",
       "      <td>110.6300</td>\n",
       "      <td>110.9300</td>\n",
       "      <td>11285831</td>\n",
       "    </tr>\n",
       "    <tr>\n",
       "      <th>2018-04-24</th>\n",
       "      <td>111.7500</td>\n",
       "      <td>112.9000</td>\n",
       "      <td>109.5900</td>\n",
       "      <td>110.4100</td>\n",
       "      <td>16453112</td>\n",
       "    </tr>\n",
       "    <tr>\n",
       "      <th>2018-04-25</th>\n",
       "      <td>110.2700</td>\n",
       "      <td>110.5300</td>\n",
       "      <td>108.6000</td>\n",
       "      <td>109.9900</td>\n",
       "      <td>13546110</td>\n",
       "    </tr>\n",
       "    <tr>\n",
       "      <th>2018-04-26</th>\n",
       "      <td>109.9700</td>\n",
       "      <td>110.8200</td>\n",
       "      <td>109.3400</td>\n",
       "      <td>110.1000</td>\n",
       "      <td>10299488</td>\n",
       "    </tr>\n",
       "    <tr>\n",
       "      <th>2018-04-27</th>\n",
       "      <td>109.5500</td>\n",
       "      <td>110.1599</td>\n",
       "      <td>109.1300</td>\n",
       "      <td>109.4000</td>\n",
       "      <td>9383967</td>\n",
       "    </tr>\n",
       "    <tr>\n",
       "      <th>2018-04-30</th>\n",
       "      <td>109.7500</td>\n",
       "      <td>110.3000</td>\n",
       "      <td>108.7500</td>\n",
       "      <td>108.7800</td>\n",
       "      <td>13744860</td>\n",
       "    </tr>\n",
       "    <tr>\n",
       "      <th>2018-05-01</th>\n",
       "      <td>108.4500</td>\n",
       "      <td>108.9700</td>\n",
       "      <td>107.5400</td>\n",
       "      <td>108.7800</td>\n",
       "      <td>10503353</td>\n",
       "    </tr>\n",
       "    <tr>\n",
       "      <th>2018-05-02</th>\n",
       "      <td>108.1100</td>\n",
       "      <td>109.4900</td>\n",
       "      <td>107.7300</td>\n",
       "      <td>107.9200</td>\n",
       "      <td>12162086</td>\n",
       "    </tr>\n",
       "    <tr>\n",
       "      <th>2018-05-03</th>\n",
       "      <td>107.5900</td>\n",
       "      <td>107.7700</td>\n",
       "      <td>105.1810</td>\n",
       "      <td>107.2400</td>\n",
       "      <td>15379091</td>\n",
       "    </tr>\n",
       "    <tr>\n",
       "      <th>2018-05-04</th>\n",
       "      <td>106.4300</td>\n",
       "      <td>108.7400</td>\n",
       "      <td>105.9800</td>\n",
       "      <td>108.4300</td>\n",
       "      <td>11967906</td>\n",
       "    </tr>\n",
       "    <tr>\n",
       "      <th>2018-05-07</th>\n",
       "      <td>108.7600</td>\n",
       "      <td>109.6800</td>\n",
       "      <td>108.3600</td>\n",
       "      <td>109.3700</td>\n",
       "      <td>9356721</td>\n",
       "    </tr>\n",
       "    <tr>\n",
       "      <th>2018-05-08</th>\n",
       "      <td>109.5300</td>\n",
       "      <td>111.3400</td>\n",
       "      <td>109.2800</td>\n",
       "      <td>110.9900</td>\n",
       "      <td>12543228</td>\n",
       "    </tr>\n",
       "    <tr>\n",
       "      <th>2018-05-09</th>\n",
       "      <td>111.4400</td>\n",
       "      <td>113.6400</td>\n",
       "      <td>111.0300</td>\n",
       "      <td>113.4100</td>\n",
       "      <td>11368094</td>\n",
       "    </tr>\n",
       "    <tr>\n",
       "      <th>2018-05-10</th>\n",
       "      <td>113.1900</td>\n",
       "      <td>114.4400</td>\n",
       "      <td>112.7500</td>\n",
       "      <td>114.2900</td>\n",
       "      <td>9159709</td>\n",
       "    </tr>\n",
       "    <tr>\n",
       "      <th>2018-05-11</th>\n",
       "      <td>114.4900</td>\n",
       "      <td>114.7300</td>\n",
       "      <td>113.6700</td>\n",
       "      <td>113.8600</td>\n",
       "      <td>10253045</td>\n",
       "    </tr>\n",
       "    <tr>\n",
       "      <th>2018-05-14</th>\n",
       "      <td>114.1100</td>\n",
       "      <td>114.7000</td>\n",
       "      <td>113.7400</td>\n",
       "      <td>113.9000</td>\n",
       "      <td>8710654</td>\n",
       "    </tr>\n",
       "    <tr>\n",
       "      <th>2018-05-15</th>\n",
       "      <td>113.9100</td>\n",
       "      <td>113.9100</td>\n",
       "      <td>112.5700</td>\n",
       "      <td>113.0300</td>\n",
       "      <td>11536212</td>\n",
       "    </tr>\n",
       "    <tr>\n",
       "      <th>2018-05-16</th>\n",
       "      <td>112.8900</td>\n",
       "      <td>113.6900</td>\n",
       "      <td>112.6300</td>\n",
       "      <td>113.3400</td>\n",
       "      <td>7571089</td>\n",
       "    </tr>\n",
       "    <tr>\n",
       "      <th>2018-05-17</th>\n",
       "      <td>113.2000</td>\n",
       "      <td>113.4100</td>\n",
       "      <td>112.2000</td>\n",
       "      <td>112.9600</td>\n",
       "      <td>8617204</td>\n",
       "    </tr>\n",
       "    <tr>\n",
       "      <th>2018-05-18</th>\n",
       "      <td>112.7500</td>\n",
       "      <td>112.8000</td>\n",
       "      <td>110.8400</td>\n",
       "      <td>111.1300</td>\n",
       "      <td>11806349</td>\n",
       "    </tr>\n",
       "    <tr>\n",
       "      <th>2018-05-21</th>\n",
       "      <td>112.0500</td>\n",
       "      <td>112.5400</td>\n",
       "      <td>111.9200</td>\n",
       "      <td>112.1500</td>\n",
       "      <td>9441931</td>\n",
       "    </tr>\n",
       "    <tr>\n",
       "      <th>2018-05-22</th>\n",
       "      <td>112.3500</td>\n",
       "      <td>114.2852</td>\n",
       "      <td>112.2900</td>\n",
       "      <td>113.0100</td>\n",
       "      <td>11507550</td>\n",
       "    </tr>\n",
       "    <tr>\n",
       "      <th>2018-05-23</th>\n",
       "      <td>112.5100</td>\n",
       "      <td>112.7700</td>\n",
       "      <td>111.1200</td>\n",
       "      <td>112.4900</td>\n",
       "      <td>11453916</td>\n",
       "    </tr>\n",
       "    <tr>\n",
       "      <th>2018-05-24</th>\n",
       "      <td>112.1400</td>\n",
       "      <td>112.1500</td>\n",
       "      <td>110.1150</td>\n",
       "      <td>111.2300</td>\n",
       "      <td>14084769</td>\n",
       "    </tr>\n",
       "    <tr>\n",
       "      <th>2018-05-25</th>\n",
       "      <td>110.4600</td>\n",
       "      <td>111.0800</td>\n",
       "      <td>110.1950</td>\n",
       "      <td>110.6600</td>\n",
       "      <td>8283548</td>\n",
       "    </tr>\n",
       "    <tr>\n",
       "      <th>2018-05-29</th>\n",
       "      <td>109.1800</td>\n",
       "      <td>109.2000</td>\n",
       "      <td>104.9550</td>\n",
       "      <td>105.9300</td>\n",
       "      <td>30643840</td>\n",
       "    </tr>\n",
       "    <tr>\n",
       "      <th>2018-05-30</th>\n",
       "      <td>107.6400</td>\n",
       "      <td>108.6000</td>\n",
       "      <td>106.6500</td>\n",
       "      <td>108.3500</td>\n",
       "      <td>17490845</td>\n",
       "    </tr>\n",
       "    <tr>\n",
       "      <th>2018-05-31</th>\n",
       "      <td>107.9500</td>\n",
       "      <td>108.1900</td>\n",
       "      <td>106.4200</td>\n",
       "      <td>107.0100</td>\n",
       "      <td>19808203</td>\n",
       "    </tr>\n",
       "  </tbody>\n",
       "</table>\n",
       "<p>1111 rows × 5 columns</p>\n",
       "</div>"
      ],
      "text/plain": [
       "                open      high       low     close    volume\n",
       "date                                                        \n",
       "2014-01-02   52.3071   52.4775   52.0061   52.2174  15637267\n",
       "2014-01-03   52.2892   52.8812   52.2174   52.6211  14220320\n",
       "2014-01-06   53.0696   53.3432   52.7736   52.9261  17562447\n",
       "2014-01-07   53.1862   53.3118   52.1277   52.3161  17869722\n",
       "2014-01-08   52.5134   52.8453   52.2981   52.8094  14694818\n",
       "2014-01-09   52.9081   52.9261   52.3250   52.7108  13248583\n",
       "2014-01-10   52.6300   52.7108   52.1860   52.4686  12704391\n",
       "2014-01-13   52.4865   52.6300   51.6074   51.7599  20773435\n",
       "2014-01-14   52.2981   52.5493   51.6343   51.7958  30318950\n",
       "2014-01-15   51.7868   53.5091   51.7868   53.3656  35223534\n",
       "2014-01-16   52.7377   53.6616   52.6928   52.9171  21691909\n",
       "2014-01-17   53.1144   53.1324   52.0559   52.1277  21064942\n",
       "2014-01-21   52.1097   52.4237   51.6522   52.1815  19559288\n",
       "2014-01-22   52.3250   52.3250   51.5087   51.6612  15484711\n",
       "2014-01-23   51.2127   51.2217   50.4233   50.6565  26243452\n",
       "2014-01-24   50.2349   50.5578   49.4186   49.4186  27111279\n",
       "2014-01-27   49.4096   50.0510   49.0616   49.4186  23944206\n",
       "2014-01-28   49.6877   50.5369   49.5531   50.0017  18061718\n",
       "2014-01-29   49.3020   50.1183   49.2033   49.8133  25471398\n",
       "2014-01-30   50.2977   50.5848   49.9030   50.2349  17060108\n",
       "2014-01-31   49.7864   50.3336   49.4993   49.6608  18201808\n",
       "2014-02-03   49.7864   50.1631   48.6202   48.7189  28572189\n",
       "2014-02-04   49.0867   49.6518   48.9790   49.2930  20775934\n",
       "2014-02-05   49.4276   49.7415   48.9611   49.5262  19499578\n",
       "2014-02-06   49.6518   50.7283   49.5173   50.6655  20921199\n",
       "2014-02-07   50.8180   51.0692   50.4637   50.7911  25065229\n",
       "2014-02-10   50.9256   51.0602   50.5848   50.8987  14727327\n",
       "2014-02-11   50.7821   51.6433   50.7552   51.5177  18817088\n",
       "2014-02-12   51.4370   51.7689   51.2755   51.5984  13447621\n",
       "2014-02-13   51.1947   52.1187   51.0961   52.0559  16607191\n",
       "...              ...       ...       ...       ...       ...\n",
       "2018-04-19  109.5300  111.8700  109.5000  111.7200  17910955\n",
       "2018-04-20  112.3000  112.7400  110.8800  111.4700  15584384\n",
       "2018-04-23  111.5700  111.9500  110.6300  110.9300  11285831\n",
       "2018-04-24  111.7500  112.9000  109.5900  110.4100  16453112\n",
       "2018-04-25  110.2700  110.5300  108.6000  109.9900  13546110\n",
       "2018-04-26  109.9700  110.8200  109.3400  110.1000  10299488\n",
       "2018-04-27  109.5500  110.1599  109.1300  109.4000   9383967\n",
       "2018-04-30  109.7500  110.3000  108.7500  108.7800  13744860\n",
       "2018-05-01  108.4500  108.9700  107.5400  108.7800  10503353\n",
       "2018-05-02  108.1100  109.4900  107.7300  107.9200  12162086\n",
       "2018-05-03  107.5900  107.7700  105.1810  107.2400  15379091\n",
       "2018-05-04  106.4300  108.7400  105.9800  108.4300  11967906\n",
       "2018-05-07  108.7600  109.6800  108.3600  109.3700   9356721\n",
       "2018-05-08  109.5300  111.3400  109.2800  110.9900  12543228\n",
       "2018-05-09  111.4400  113.6400  111.0300  113.4100  11368094\n",
       "2018-05-10  113.1900  114.4400  112.7500  114.2900   9159709\n",
       "2018-05-11  114.4900  114.7300  113.6700  113.8600  10253045\n",
       "2018-05-14  114.1100  114.7000  113.7400  113.9000   8710654\n",
       "2018-05-15  113.9100  113.9100  112.5700  113.0300  11536212\n",
       "2018-05-16  112.8900  113.6900  112.6300  113.3400   7571089\n",
       "2018-05-17  113.2000  113.4100  112.2000  112.9600   8617204\n",
       "2018-05-18  112.7500  112.8000  110.8400  111.1300  11806349\n",
       "2018-05-21  112.0500  112.5400  111.9200  112.1500   9441931\n",
       "2018-05-22  112.3500  114.2852  112.2900  113.0100  11507550\n",
       "2018-05-23  112.5100  112.7700  111.1200  112.4900  11453916\n",
       "2018-05-24  112.1400  112.1500  110.1150  111.2300  14084769\n",
       "2018-05-25  110.4600  111.0800  110.1950  110.6600   8283548\n",
       "2018-05-29  109.1800  109.2000  104.9550  105.9300  30643840\n",
       "2018-05-30  107.6400  108.6000  106.6500  108.3500  17490845\n",
       "2018-05-31  107.9500  108.1900  106.4200  107.0100  19808203\n",
       "\n",
       "[1111 rows x 5 columns]"
      ]
     },
     "execution_count": 10,
     "metadata": {},
     "output_type": "execute_result"
    }
   ],
   "source": [
    "web.DataReader('JPM', 'iex', start, end)"
   ]
  },
  {
   "cell_type": "code",
   "execution_count": 17,
   "metadata": {},
   "outputs": [
    {
     "name": "stdout",
     "output_type": "stream",
     "text": [
      "5y\n"
     ]
    }
   ],
   "source": [
    "price = web.DataReader('JPM', 'iex', start, end)['close']"
   ]
  },
  {
   "cell_type": "code",
   "execution_count": 18,
   "metadata": {},
   "outputs": [
    {
     "data": {
      "text/plain": [
       "Index(['2014-01-02', '2014-01-03', '2014-01-06', '2014-01-07', '2014-01-08',\n",
       "       '2014-01-09', '2014-01-10', '2014-01-13', '2014-01-14', '2014-01-15',\n",
       "       ...\n",
       "       '2018-05-17', '2018-05-18', '2018-05-21', '2018-05-22', '2018-05-23',\n",
       "       '2018-05-24', '2018-05-25', '2018-05-29', '2018-05-30', '2018-05-31'],\n",
       "      dtype='object', name='date', length=1111)"
      ]
     },
     "execution_count": 18,
     "metadata": {},
     "output_type": "execute_result"
    }
   ],
   "source": [
    "price.index"
   ]
  },
  {
   "cell_type": "markdown",
   "metadata": {},
   "source": [
    "The pandas Index is a powerful way to handle time series data, so it is valuable to know how to build one yourself. Pandas provides the `pd.to_datetime()` function for just this task."
   ]
  },
  {
   "cell_type": "code",
   "execution_count": 19,
   "metadata": {},
   "outputs": [],
   "source": [
    "price.index = pd.to_datetime(price.index)"
   ]
  },
  {
   "cell_type": "code",
   "execution_count": 20,
   "metadata": {},
   "outputs": [
    {
     "data": {
      "text/plain": [
       "DatetimeIndex(['2014-01-02', '2014-01-03', '2014-01-06', '2014-01-07',\n",
       "               '2014-01-08', '2014-01-09', '2014-01-10', '2014-01-13',\n",
       "               '2014-01-14', '2014-01-15',\n",
       "               ...\n",
       "               '2018-05-17', '2018-05-18', '2018-05-21', '2018-05-22',\n",
       "               '2018-05-23', '2018-05-24', '2018-05-25', '2018-05-29',\n",
       "               '2018-05-30', '2018-05-31'],\n",
       "              dtype='datetime64[ns]', name='date', length=1111, freq=None)"
      ]
     },
     "execution_count": 20,
     "metadata": {},
     "output_type": "execute_result"
    }
   ],
   "source": [
    "price.index"
   ]
  },
  {
   "cell_type": "code",
   "execution_count": 21,
   "metadata": {},
   "outputs": [
    {
     "data": {
      "text/plain": [
       "<matplotlib.axes._subplots.AxesSubplot at 0x11795c128>"
      ]
     },
     "execution_count": 21,
     "metadata": {},
     "output_type": "execute_result"
    },
    {
     "data": {
      "image/png": "[encoded data removed]",
      "text/plain": [
       "<Figure size 432x288 with 1 Axes>"
      ]
     },
     "metadata": {},
     "output_type": "display_data"
    }
   ],
   "source": [
    "price.plot()"
   ]
  },
  {
   "cell_type": "markdown",
   "metadata": {},
   "source": [
    "The Statsmodels library provides tools for statistical modeling. It is built upon and requires the SciPy ecosystem and supports data in the form of NumPy arrays and Pandas Series objects. It provides a suite of statistical test and modeling methods, as well as tools dedicated to time series analysis that can also be used for forecasting. Key features of Statsmodels relevant to time series forecasting include:\n",
    "\n",
    " - Statistical tests for stationarity such as the `Augmented Dickey-Fuller unit root test`.\n",
    " - Time series analysis plots such as `autocorrelation function (ACF)` and `partial autocorrelation function (PACF)`.\n",
    " - Linear time series models such as `autoregression (AR)`, `moving average (MA)`, `autoregressive moving average (ARMA)`, and `autoregressive integrated moving average (ARIMA)`.\n",
    "\n",
    "Reference: http://www.statsmodels.org/stable/tsa.html"
   ]
  },
  {
   "cell_type": "markdown",
   "metadata": {},
   "source": [
    "## Stationary Test"
   ]
  },
  {
   "cell_type": "code",
   "execution_count": 61,
   "metadata": {},
   "outputs": [],
   "source": [
    "from statsmodels.tsa.stattools import adfuller\n",
    "def test_stationarity(timeseries):\n",
    "    \n",
    "    #Determing rolling statistics\n",
    "    rolmean = timeseries.rolling(12).mean()\n",
    "    rolstd = timeseries.rolling(12).std()\n",
    "\n",
    "    #Plot rolling statistics:\n",
    "    orig = plt.plot(timeseries, color='blue',label='Original')\n",
    "    mean = plt.plot(rolmean, color='red', label='Rolling Mean')\n",
    "    std = plt.plot(rolstd, color='black', label = 'Rolling Std')\n",
    "    plt.legend(loc='best')\n",
    "    plt.title('Rolling Mean & Standard Deviation')\n",
    "    plt.show(block=False)\n",
    "    \n",
    "    #Perform Dickey-Fuller test:\n",
    "    print('Results of Dickey-Fuller Test:')\n",
    "    dftest = adfuller(timeseries, autolag='AIC')\n",
    "    dfoutput = pd.Series(dftest[0:4], index=['Test Statistic','p-value','#Lags Used','Number of Observations Used'])\n",
    "    for key,value in dftest[4].items():\n",
    "        dfoutput['Critical Value (%s)'%key] = value\n",
    "    print(round(dfoutput, 3))"
   ]
  },
  {
   "cell_type": "code",
   "execution_count": 62,
   "metadata": {},
   "outputs": [
    {
     "data": {
      "image/png": "[encoded data removed]",
      "text/plain": [
       "<Figure size 432x288 with 1 Axes>"
      ]
     },
     "metadata": {},
     "output_type": "display_data"
    },
    {
     "name": "stdout",
     "output_type": "stream",
     "text": [
      "Results of Dickey-Fuller Test:\n",
      "Test Statistic                    0.223\n",
      "p-value                           0.974\n",
      "#Lags Used                        5.000\n",
      "Number of Observations Used    1105.000\n",
      "Critical Value (1%)              -3.436\n",
      "Critical Value (5%)              -2.864\n",
      "Critical Value (10%)             -2.568\n",
      "dtype: float64\n"
     ]
    }
   ],
   "source": [
    "test_stationarity(price)"
   ]
  },
  {
   "cell_type": "code",
   "execution_count": 72,
   "metadata": {},
   "outputs": [
    {
     "data": {
      "image/png": "[encoded data removed]",
      "text/plain": [
       "<Figure size 432x288 with 1 Axes>"
      ]
     },
     "metadata": {},
     "output_type": "display_data"
    },
    {
     "name": "stdout",
     "output_type": "stream",
     "text": [
      "Results of Dickey-Fuller Test:\n",
      "Test Statistic                  -15.924\n",
      "p-value                           0.000\n",
      "#Lags Used                        4.000\n",
      "Number of Observations Used    1105.000\n",
      "Critical Value (1%)              -3.436\n",
      "Critical Value (5%)              -2.864\n",
      "Critical Value (10%)             -2.568\n",
      "dtype: float64\n"
     ]
    }
   ],
   "source": [
    "diff = price - price.shift()\n",
    "diff.dropna(inplace=True)\n",
    "diff.plot()\n",
    "test_stationarity(diff)"
   ]
  },
  {
   "cell_type": "code",
   "execution_count": 75,
   "metadata": {},
   "outputs": [
    {
     "data": {
      "text/plain": [
       "Text(0.5,1,'Autocorrelation Function')"
      ]
     },
     "execution_count": 75,
     "metadata": {},
     "output_type": "execute_result"
    },
    {
     "data": {
      "image/png": "[encoded data removed]",
      "text/plain": [
       "<Figure size 1440x288 with 1 Axes>"
      ]
     },
     "metadata": {},
     "output_type": "display_data"
    }
   ],
   "source": [
    "from statsmodels.tsa.stattools import acf, pacf\n",
    "import numpy as np\n",
    "acf_price_plot = acf(diff, nlags=20)\n",
    "#Plot ACF: \n",
    "plt.figure(figsize=(20, 4))\n",
    "\n",
    "plt.subplot(121) \n",
    "plt.plot(acf_price_plot)\n",
    "plt.xticks(np.arange(21))\n",
    "plt.axhline(y=0,linestyle='--',color='gray')\n",
    "plt.axhline(y=-1.96/np.sqrt(len(acf_price_plot)),linestyle='--',color='gray')\n",
    "plt.axhline(y=1.96/np.sqrt(len(acf_price_plot)),linestyle='--',color='gray')\n",
    "for i in range(1,20):\n",
    "    plt.axvline(x=i,linestyle=':',color='gray')\n",
    "plt.title('Autocorrelation Function')"
   ]
  },
  {
   "cell_type": "code",
   "execution_count": null,
   "metadata": {},
   "outputs": [],
   "source": [
    "pacf_price_plot = pacf(diff_price_pop.dropna(), nlags=20)\n",
    "#Plot ACF: \n",
    "plt.figure(figsize=(20, 4))\n",
    "\n",
    "plt.subplot(121) \n",
    "plt.plot(pacf_air_plot)\n",
    "plt.xticks(np.arange(21))\n",
    "plt.axhline(y=0,linestyle='--',color='gray')\n",
    "plt.axhline(y=-1.96/np.sqrt(len(acf_air_plot)),linestyle='--',color='gray')\n",
    "plt.axhline(y=1.96/np.sqrt(len(acf_air_plot)),linestyle='--',color='gray')\n",
    "for i in range(1,20):\n",
    "    plt.axvline(x=i,linestyle=':',color='gray')\n",
    "plt.title('Partial Autocorrelation Function')"
   ]
  },
  {
   "cell_type": "markdown",
   "metadata": {},
   "source": [
    "## Decompose the trend"
   ]
  },
  {
   "cell_type": "code",
   "execution_count": 70,
   "metadata": {},
   "outputs": [],
   "source": [
    "from statsmodels.tsa.seasonal import seasonal_decompose"
   ]
  },
  {
   "cell_type": "code",
   "execution_count": 71,
   "metadata": {},
   "outputs": [],
   "source": [
    "decomposition = seasonal_decompose(price, freq=30)"
   ]
  },
  {
   "cell_type": "markdown",
   "metadata": {},
   "source": [
    "## Understanding Random Walk\n",
    "To understand what a Random Walk is, lets take a look a what a random series looks like. The Python standard library contains the random module that provides access to a suite of functions for generating random numbers. The randrange() function can be used to generate a random integer between 0 and an upper limit. We can use the randrange() function to generate a list of 1,000 random integers between 0 and 10.  "
   ]
  },
  {
   "cell_type": "code",
   "execution_count": 76,
   "metadata": {},
   "outputs": [
    {
     "data": {
      "image/png": "[encoded data removed]",
      "text/plain": [
       "<Figure size 432x288 with 1 Axes>"
      ]
     },
     "metadata": {},
     "output_type": "display_data"
    }
   ],
   "source": [
    "from random import seed\n",
    "from random import randrange\n",
    "seed(1)\n",
    "series = [randrange(10) for i in range(1000)]\n",
    "plt.plot(series)\n",
    "plt.show()"
   ]
  },
  {
   "cell_type": "markdown",
   "metadata": {},
   "source": [
    "Running the example plots the sequence of random numbers. It’s a real mess. It looks nothing like a time series. This is not a random walk. It is just a sequence of random numbers also called white noise. A common mistake that beginners make is to think that a random walk is a list of random numbers, and this is not the case at all."
   ]
  },
  {
   "cell_type": "markdown",
   "metadata": {},
   "source": [
    "> A random walk is different from a list of random numbers because the next value in the sequence is a modification of the previous value in the sequence. The process used to generate the series forces dependence from one-time step to the next. This dependence provides some consistency from step-to-step rather than the large jumps that a series of independent, random numbers provides. It is this dependency that gives the process its name as a random walk or a drunkard’s walk."
   ]
  },
  {
   "cell_type": "code",
   "execution_count": 78,
   "metadata": {},
   "outputs": [
    {
     "data": {
      "image/png": "[encoded data removed]",
      "text/plain": [
       "<Figure size 432x288 with 1 Axes>"
      ]
     },
     "metadata": {},
     "output_type": "display_data"
    }
   ],
   "source": [
    "# create and plot a random walk\n",
    "from random import seed\n",
    "from random import random\n",
    "from matplotlib import pyplot\n",
    "seed(1)\n",
    "random_walk = list()\n",
    "random_walk.append(-1 if random() < 0.5 else 1)\n",
    "for i in range(1, 1000):\n",
    "  movement = -1 if random() < 0.5 else 1\n",
    "  value = random_walk[i-1] + movement\n",
    "  random_walk.append(value)\n",
    "pyplot.plot(random_walk)\n",
    "pyplot.show()"
   ]
  },
  {
   "cell_type": "markdown",
   "metadata": {},
   "source": [
    "Running the example creates a line plot of the random walk. We can see that it looks very different from our above sequence of random numbers. In fact, the shape and movement looks like a realistic time series for the price of a security on the stock market.\n",
    "\n",
    "In the next sections, we will take a closer look at the properties of a random walk. This is helpful because it will give you context to help identify whether a time series you are analyzing in the future might be a random walk. Let’s start by looking at the autocorrelation structure."
   ]
  },
  {
   "cell_type": "markdown",
   "metadata": {},
   "source": [
    "## Random Walk and Autocorrelation\n",
    "We can calculate the correlation between each observation and the observations at previous time steps. A plot of these correlations is called an autocorrelation plot or a correlogram. \n",
    "\n",
    "*Given the way that the random walk is constructed, we would expect a strong autocorrelation with the previous observation and **a linear fall off** from there with previous lag values. We can use the `autocorrelation plot()` function in Pandas to plot the correlogram for the random walk.*\n",
    "\n",
    "The complete example is listed below. Note that in each example where we generate the random walk we use the same seed for the random number generator to ensure that we get the same sequence of random numbers, and in turn the same random walk."
   ]
  },
  {
   "cell_type": "code",
   "execution_count": 81,
   "metadata": {},
   "outputs": [
    {
     "name": "stderr",
     "output_type": "stream",
     "text": [
      "/Users/Shravan/anaconda3/envs/casestudy1/lib/python3.6/site-packages/ipykernel_launcher.py:14: FutureWarning: 'pandas.tools.plotting.autocorrelation_plot' is deprecated, import 'pandas.plotting.autocorrelation_plot' instead.\n",
      "  \n"
     ]
    },
    {
     "data": {
      "image/png": "[encoded data removed]",
      "text/plain": [
       "<Figure size 432x288 with 1 Axes>"
      ]
     },
     "metadata": {},
     "output_type": "display_data"
    }
   ],
   "source": [
    "# plot the autocorrelation of a random walk\n",
    "from random import seed\n",
    "from random import random\n",
    "from matplotlib import pyplot\n",
    "from pandas.tools.plotting import autocorrelation_plot\n",
    "\n",
    "seed(1)\n",
    "random_walk = list()\n",
    "random_walk.append(-1 if random() < 0.5 else 1)\n",
    "for i in range(1, 1000):\n",
    "  movement = -1 if random() < 0.5 else 1\n",
    "  value = random_walk[i-1] + movement\n",
    "  random_walk.append(value)\n",
    "autocorrelation_plot(random_walk)\n",
    "pyplot.show()"
   ]
  },
  {
   "cell_type": "markdown",
   "metadata": {},
   "source": [
    "Running the example, we generally see the expected trend, in this case across the first few hundred lag observations."
   ]
  },
  {
   "cell_type": "markdown",
   "metadata": {},
   "source": [
    "## Random Walk and Stationarity\n",
    "> A stationary time series is one where the values are NOT a function of time. \n",
    "\n",
    "Given the way that the random walk is constructed and the results of reviewing the autocorrelation, we know that the observations in a random walk are dependent on time. The current observation is a random step from the previous observation.**Therefore we can expect a random walk to be non-stationary.**. In fact, all random walk processes are non-stationary. Note that not all non-stationary time series are random walks.\n",
    "\n",
    "> Additionally, a non-stationary time series does not have a consistent mean and/or variance over time.\n",
    "\n",
    "A review of the random walk line plot might suggest this to be the case. We can confirm this using a statistical significance test, specifically the Augmented Dickey-Fuller test. We can perform this test using the adfuller() function in the Statsmodels library. The complete example is listed below."
   ]
  },
  {
   "cell_type": "code",
   "execution_count": 83,
   "metadata": {},
   "outputs": [
    {
     "name": "stdout",
     "output_type": "stream",
     "text": [
      "ADF Statistic: 0.341605\n",
      "p-value: 0.979175\n",
      "Critical Values:\n",
      "\t1%: -3.437\n",
      "\t5%: -2.864\n",
      "\t10%: -2.568\n"
     ]
    }
   ],
   "source": [
    "# calculate the stationarity of a random walk\n",
    "from random import seed\n",
    "from random import random\n",
    "from statsmodels.tsa.stattools import adfuller\n",
    "\n",
    "# generate random walk\n",
    "seed(1)\n",
    "random_walk = list()\n",
    "random_walk.append(-1 if random() < 0.5 else 1)\n",
    "for i in range(1, 1000):\n",
    "  movement = -1 if random() < 0.5 else 1\n",
    "  value = random_walk[i-1] + movement\n",
    "  random_walk.append(value)\n",
    "\n",
    "# statistical test\n",
    "result = adfuller(random_walk) \n",
    "print('ADF Statistic: %f' % result[0]) \n",
    "print('p-value: %f' % result[1]) \n",
    "print('Critical Values:')\n",
    "\n",
    "for key, value in result[4].items():\n",
    "    print('\\t%s: %.3f' % (key, value))"
   ]
  },
  {
   "cell_type": "markdown",
   "metadata": {},
   "source": [
    "**The null hypothesis of the test is that the time series is non-stationary.** Running the example, we can see that the test statistic value was 0.341605. This is larger than all of the critical values at the 1%, 5%, and 10% confidence levels. Therefore, we can say that the time series does appear to be non-stationary with a low likelihood of the result being a statistical fluke.\n",
    "\n",
    "We can make the random walk stationary by taking the first difference. That is replacing each observation as the difference between it and the previous value. Given the way that this random walk was constructed, we would expect this to result in a time series of -1 and 1 values. This is exactly what we see. The complete example is listed below."
   ]
  },
  {
   "cell_type": "code",
   "execution_count": 84,
   "metadata": {},
   "outputs": [
    {
     "data": {
      "image/png": "[encoded data removed]",
      "text/plain": [
       "<Figure size 432x288 with 1 Axes>"
      ]
     },
     "metadata": {},
     "output_type": "display_data"
    }
   ],
   "source": [
    "# calculate and plot a differenced random walk\n",
    "from random import seed\n",
    "from random import random\n",
    "from matplotlib import pyplot\n",
    "\n",
    "# create random walk\n",
    "seed(1)\n",
    "random_walk = list()\n",
    "random_walk.append(-1 if random() < 0.5 else 1)\n",
    "for i in range(1, 1000):\n",
    "  movement = -1 if random() < 0.5 else 1\n",
    "  value = random_walk[i-1] + movement\n",
    "  random_walk.append(value)\n",
    "\n",
    "# take difference\n",
    "diff = list()\n",
    "for i in range(1, len(random_walk)):\n",
    "  value = random_walk[i] - random_walk[i - 1]\n",
    "  diff.append(value)\n",
    "    \n",
    "# line plot\n",
    "pyplot.plot(diff)\n",
    "pyplot.show()"
   ]
  },
  {
   "cell_type": "markdown",
   "metadata": {},
   "source": [
    "Running the example produces a line plot showing 1,000 movements of -1 and 1, a real mess.\n",
    "\n",
    "This difference graph also makes it clear that really we have no information to work with here other than a series of random moves. There is no structure to learn. Now that the time series is stationary, we can recalculate the correlogram of the differenced series. The complete example is listed below"
   ]
  },
  {
   "cell_type": "code",
   "execution_count": 85,
   "metadata": {},
   "outputs": [
    {
     "name": "stderr",
     "output_type": "stream",
     "text": [
      "/Users/Shravan/anaconda3/envs/casestudy1/lib/python3.6/site-packages/ipykernel_launcher.py:20: FutureWarning: 'pandas.tools.plotting.autocorrelation_plot' is deprecated, import 'pandas.plotting.autocorrelation_plot' instead.\n"
     ]
    },
    {
     "data": {
      "image/png": "[encoded data removed]",
      "text/plain": [
       "<Figure size 432x288 with 1 Axes>"
      ]
     },
     "metadata": {},
     "output_type": "display_data"
    }
   ],
   "source": [
    "# plot the autocorrelation of a differenced random walk\n",
    "from random import seed\n",
    "from random import random\n",
    "from matplotlib import pyplot\n",
    "from pandas.tools.plotting import autocorrelation_plot\n",
    "# create random walk\n",
    "seed(1)\n",
    "random_walk = list()\n",
    "random_walk.append(-1 if random() < 0.5 else 1)\n",
    "for i in range(1, 1000):\n",
    "  movement = -1 if random() < 0.5 else 1\n",
    "  value = random_walk[i-1] + movement\n",
    "  random_walk.append(value)\n",
    "# take difference\n",
    "diff = list()\n",
    "for i in range(1, len(random_walk)):\n",
    "  value = random_walk[i] - random_walk[i - 1]\n",
    "  diff.append(value)\n",
    "# line plot\n",
    "autocorrelation_plot(diff)\n",
    "pyplot.show()"
   ]
  },
  {
   "cell_type": "markdown",
   "metadata": {},
   "source": [
    "Running the example, we can see no significant relationship between the lagged observations, as we would expect from the way the random walk was generated. All correlations are small, close to zero and below the 95% and 99% confidence levels (beyond a few statistical flukes)."
   ]
  },
  {
   "cell_type": "markdown",
   "metadata": {},
   "source": [
    "## Summary of Random Walk\n",
    "Is your time series a Random Walk ?\n",
    "\n",
    "Your time series may be a random walk. Some ways to check if your time series is a random walk are as follows:\n",
    "- The time series shows a strong temporal dependence that decays linearly or in a similar pattern.\n",
    "- The time series is non-stationary and making it stationary shows no obviously learnable structure in the data.\n",
    "- The persistence model provides the best source of reliable predictions. \n",
    "\n",
    "What is a persistence model ?\n",
    "A random walk is unpredictable; it cannot reasonably be predicted. Given the way that the random walk is constructed, we can expect that the best prediction we could make would be to use the observation at the previous time step as what will happen in the next time step. Simply because we know that the next time step will be a function of the prior time step. This is often called the naive forecast, or a persistence model.\n",
    "\n",
    "This last point is key for time series forecasting. Baseline forecasts with the persistence model quickly flesh out whether you can do significantly better. If you can’t, you’re probably working with a random walk. Many time series are random walks, particularly those of security prices over time. The random walk hypothesis is a theory that stock market prices are a random walk and cannot be predicted. "
   ]
  },
  {
   "cell_type": "markdown",
   "metadata": {},
   "source": [
    "## Decompose Time Series Data\n",
    "Time series decomposition involves thinking of a series as a combination of level, trend, seasonality, and noise components. Decomposition provides a useful abstract model for thinking about time series generally and for better understanding problems during time series analysis and forecasting. \n",
    "\n",
    "### Time Series Components\n",
    "A useful abstraction for selecting forecasting methods is to break a time series down into systematic and unsystematic components.\n",
    "- *Systematic*: Components of the time series that have consistency or recurrence and can be described and modeled.\n",
    "- *Non-Systematic*: Components of the time series that cannot be directly modeled.\n",
    "\n",
    "A given time series is thought to consist of three systematic components including level, trend, seasonality, and one non-systematic component called noise. These components are defined as follows:\n",
    "- Level: The average value in the series.\n",
    "- Trend: The increasing or decreasing value in the series.\n",
    "- Seasonality: The repeating short-term cycle in the series.\n",
    "- Noise: The random variation in the series.\n",
    "\n",
    "A series is thought to be an aggregate or combination of these four components. All series have a level and noise. The trend and seasonality components are optional. It is helpful to think of the components as combining either additively or multiplicatively."
   ]
  },
  {
   "cell_type": "markdown",
   "metadata": {},
   "source": [
    "There are methods to automatically decompose a time series. The Statsmodels library provides an implementation of the naive, or classical, decomposition method in a function called `seasonal_decompose()`. It requires that you specify whether the model is additive or multiplicative. ......"
   ]
  },
  {
   "cell_type": "markdown",
   "metadata": {},
   "source": [
    "## Trends\n",
    "Our time series dataset may contain a trend. A trend is a continued increase or decrease in the series over time. There can be benefit in identifying, modeling, and even removing trend information from your time series dataset.\n",
    "\n",
    "A trend is a long-term increase or decrease in the level of the time series.\n",
    "\n",
    "> In general, a systematic change in a time series that does not appear to be periodic is known as a trend.\n",
    "\n",
    "### Identifying a trend\n",
    "\n",
    "You can plot time series data to see if a trend is obvious or not. The difficulty is that in practice, identifying a trend in a time series can be a subjective process. As such, extracting or removing it from the time series can be just as subjective. Create line plots of your data and inspect the plots for obvious trends. Add linear and nonlinear trend lines to your plots and see if a trend is obvious.\n",
    "\n",
    "### Removing a trend\n",
    "A time series with a trend is called non-stationary. An identified trend can be modeled. Once modeled, it can be removed from the time series dataset. This is called detrending the time series. If a dataset does not have a trend or we successfully remove the trend, the dataset is said to be trend stationary.\n",
    "\n",
    "### Using a trend\n",
    "From a machine learning perspective, a trend in your data represents two opportunities:\n",
    "- Remove Information: To remove systematic information that distorts the relationship between input and output variables.\n",
    "- Add Information: To add systematic information to improve the relationship between input and output variables.\n",
    "\n",
    "Specifically, a trend can be removed from your time series data (and data in the future) as a data preparation and cleaning exercise. This is common when using statistical methods for time series forecasting, but does not always improve results when using machine learning models. Alternately, a trend can be added, either directly or as a summary, as a new input variable to the supervised learning problem to predict the output variable."
   ]
  },
  {
   "cell_type": "markdown",
   "metadata": {},
   "source": [
    "## Seasonality\n",
    "Time series datasets can contain a seasonal component. This is a cycle that repeats over time, such as monthly or yearly. **This repeating cycle may obscure the signal** that we wish to model when forecasting, and in turn may provide a strong signal to our predictive models.\n",
    "\n"
   ]
  },
  {
   "cell_type": "markdown",
   "metadata": {},
   "source": [
    "## Why is it called Auto Regression ?\n",
    "Linear Regression can be used on time series where input variables are taken as observations at previous time steps, called lag variables. For example, we can predict the value for the next time step (t+1) given the observations at the current (t and previous t-1). As a regression model, this would look as follows:\n",
    "\n",
    "> X(t + 1) = b0 + (b1 × X(t)) + (b2 × X(t − 1))\n",
    "\n",
    "Because the regression model uses data from the same input variable at previous time steps, it is referred to as an autoregression (regression of self)."
   ]
  },
  {
   "cell_type": "markdown",
   "metadata": {},
   "source": [
    "## What is Auto Correlation ?\n",
    "An autoregression model makes an assumption that the observations at current and previous time steps are useful to predict the value at the next time step. This relationship between variables is called correlation. This relationship between variables is called correlation. If both variables change in the same direction (e.g. go up together or down together), this is called a positive correlation. If the variables move in opposite directions as values change (e.g. one goes up and one goes down), then this is called negative correlation.\n",
    "\n",
    "We can use statistical measures to calculate the correlation between the output variable and values at previous time steps at various different lags. \n",
    "\n",
    "The stronger the correlation between the output variable and a specific lagged variable, the more weight that autoregression model can put on that variable when modeling. Again, because the correlation is calculated between the variable and itself at previous time steps, it is called an `autocorrelation`. It is also called `serial correlation` because of the sequenced structure of time series data.\n",
    "\n",
    "The correlation statistics can also help to choose which lag variables will be useful in a model and which will not. Interestingly, if all lag variables show low or no correlation with the output variable, then it suggests that the time series problem may not be predictable. This can be very useful when getting started on a new dataset."
   ]
  },
  {
   "cell_type": "markdown",
   "metadata": {},
   "source": [
    "## Auto Correlation Plots\n",
    "We can plot the correlation coefficient for each lag variable.\n",
    "\n",
    "This can very quickly give an idea of which lag variables may be good candidates for use in a predictive model and how the relationship between the observation and its historic values changes over time.\n",
    "\n",
    "We could manually calculate the correlation values for each lag variable and plot the result. Thankfully, Pandas provides a built-in plot called the `autocorrelation_plot()` function.\n",
    "\n",
    "#### acf plot\n",
    "The plot provides the lag number along the x-axis and the correlation coefficient value between -1 and 1 on the y-axis. The plot also includes solid and dashed lines that indicate the 95% and 99% confidence interval for the correlation values. Correlation values above these lines are more significant than those below the line, providing a threshold or cutoff for selecting more relevant lag values.\n",
    "\n",
    "The Statsmodels library also provides a version of the plot in the `plot_acf()` function as a line plot.\n"
   ]
  },
  {
   "cell_type": "markdown",
   "metadata": {},
   "source": [
    "## Autoregression Model\n",
    "An autoregression model is a linear regression model that uses lagged variables as input variables. \n",
    "\n",
    "We could calculate the linear regression model manually using the LinearRegession class in scikit-learn and manually specify the lag input variables to use. Alternately, the Statsmodels library provides an autoregression model that automatically selects an appropriate lag value using statistical tests and trains a linear regression model. It is provided in the AR class.\n",
    "\n",
    "We can use this model by first creating the model AR() and then calling fit() to train it on our dataset. This returns an ARResult object. Once fit, we can use the model to make a prediction by calling the predict() function for a number of observations in the future."
   ]
  },
  {
   "cell_type": "markdown",
   "metadata": {},
   "source": [
    "## Moving Average\n",
    "The residual errors from forecasts on a time series provide another source of information that we can model. Residual errors themselves form a time series that can have temporal structure. A simple autoregression model of this structure can be used to predict the forecast error, which in turn can be used to correct forecasts. This type of model is called a moving average model, the same name but very different from moving average smoothing. \n",
    "\n",
    "#### model of residual errors\n",
    "The difference between what was expected and what was predicted is called the residual error. It is calculated as:\n",
    "> residual error = expected − predicted\n",
    "\n",
    "Just like the input observations themselves, the residual errors from a time series can have temporal structure like trends, bias, and seasonality.\n",
    "\n",
    "Any temporal structure in the time series of residual forecast errors is useful as a diagnostic as it suggests information that could be incorporated into the predictive model. *An ideal model would leave no structure in the residual error, just random fluctuations that cannot be modeled.*\n",
    "\n",
    "Structure in the residual error can also be modeled directly. There may be complex signals in the residual error that are difficult to directly incorporate into the model. Instead, you can create a model of the residual error time series and predict the expected error for your model. The predicted error can then be subtracted from the model prediction and in turn provide an additional lift in performance.\n",
    "\n",
    "A simple and effective model of residual error is an autoregression. This is where some number of lagged error values are used to predict the error at the next time step. These lag errors are combined in a linear regression model, much like an autoregression model of the direct time series observations.\n",
    "\n",
    "> An autoregression of the residual error time series is called a Moving Average (MA) model. This is confusing because it has nothing to do with the moving average smoothing process. Think of it as the sibling to the autoregressive (AR) process, except on lagged residual error rather than lagged raw observations.\n",
    "\n"
   ]
  },
  {
   "cell_type": "markdown",
   "metadata": {},
   "source": [
    "## Autocorrelation and Partial Autocorrelation Plots\n",
    "Autocorrelation and partial autocorrelation plots are heavily used in time series analysis and forecasting. These are plots that graphically summarize the strength of a relationship with an observation in a time series with observations at prior time steps. "
   ]
  }
 ],
 "metadata": {
  "kernelspec": {
   "display_name": "Python 3",
   "language": "python",
   "name": "python3"
  },
  "language_info": {
   "codemirror_mode": {
    "name": "ipython",
    "version": 3
   },
   "file_extension": ".py",
   "mimetype": "text/x-python",
   "name": "python",
   "nbconvert_exporter": "python",
   "pygments_lexer": "ipython3",
   "version": "3.6.5"
  }
 },
 "nbformat": 4,
 "nbformat_minor": 2
}
