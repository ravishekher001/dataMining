{
 "cells": [
  {
   "cell_type": "markdown",
   "metadata": {},
   "source": [
    "# What is Machine Learning ?"
   ]
  },
  {
   "cell_type": "markdown",
   "metadata": {},
   "source": [
    "The goal of this section is that if someone asks you what is Machine Learning, then instead of giving a vague answer, you will atleast develop some intuition behind it.\n",
    "\n",
    "> Machine Learning is an automated approach to building emperical models from the data alone.\n",
    "\n",
    "> Machine Learning gives computers the ability to learn without being explicitly programmed.\n",
    "\n",
    "> Machine Learning is `using data` to `answer questions`. Here, you can think of `using data` as training data and `answer questions` as making predictions/inference. It uses an automated approach to building models rather than relying on a pre-defined set of rules. The model here refers to a tool used to either make predictions/classifications/clustering. \n",
    "\n",
    "> Machine Learning is an automated approach to building models because there is no programmer giving the algorithm some rules to make predictions/classifications/clustering. The algorithm itself learns by addjusting its parameters by looking for some patterns in the data. \n",
    "\n",
    "> Machine learning is concerned with algorithms and techniques that allow computers to “learn” by example. The major focus of machine learning is to extract information from data automatically by computational and statistical methods.\n",
    "\n",
    "> Machine learning is an automated approach to building empirical models from the data alone. A key advantage of this is that we make no a priori assumptions about the data, its functional form, or probability distributions. It is an empirical approach, so we do not need to provide a theoretical model. However, it also means that for machine learning to provide the best performance we do need a comprehensive representative set of examples, that spans as much of the parameter space as possible. This comprehensive set of examples is referred to as the training data. \n",
    "    So, for a successful application of machine learning we have two key ingredients, both of which are essential, a machine learning algorithm, and a comprehensive training data set. Then, once the training has been performed, we should test its efficacy using an independent validation data set to see how well it performs when presented with data that the algorithm has not previously seen, i.e. test its generalization.\n",
    "    It should be noted that with a given machine learning algorithm, the performance can go from poor to outstanding with the provision of a progressively more complete training data set. (My thought: having a good training dataset is like going to very good school, the machine learning algorithm here being you/your mind and the material you learn in the school being the training data).\n",
    "    \n",
    "> Machine Learning is a function of both the algorithm and a comprehensive data set.\n",
    "\n",
    "#### How is Machine Learning different from Statistical Learning ?\n",
    "#### What is meant by an emperical model ?\n",
    "\n",
    "> The main difference with machine learning is that just like statistical models, the goal is to understand the structure of the data – fit theoretical distributions to the data that are well understood. So, with statistical models there is a theory behind the model that is mathematically proven, but this requires that data meets certain strong assumptions too. Machine learning has developed based on the ability to use computers to probe the data for structure, even if we do not have a theory of what that structure looks like. The test for a machine learning model is a validation error on new data, not a theoretical test that proves a null hypothesis. Because machine learning often uses an iterative approach to learn from data, the learning can be easily automated. Passes are run through the data until a robust pattern is found.\n",
    "\n",
    "> Emperical modeling is a generic term for activities that create models by observation and experiment, i.e we learn by example. \n",
    "\n",
    "> Simply put, an Emperical model is when we learn by example."
   ]
  },
  {
   "cell_type": "markdown",
   "metadata": {},
   "source": [
    "### How is Linear regression an emperical model ?\n",
    "When we perform a linear regression we are creating an emperical model by assuming the functional form, eg: straight line. y = mx + c. Typically, we estimate m and c by using a set of examples and an approach such as least square fitting. \n",
    "\n",
    "### What is the one thing that we must do when building an emperical model ?\n",
    "When building an emperical model it is critically important to `evaluate` the model. One way to evaluate the model is by looking at the `Residuals` or `fitting deviation`. \n",
    "\n",
    "### Emperical vs Deterministic models\n",
    "An empirical model is the transformation that allows us to express the dependent variable, y, as a function of the independent input variables x1…xn.\n",
    "Empirical modeling is a generic term for activities that create models by observation and experiment, that is, we learn by example.\n",
    "In contrast to an empirical model, in a deterministic model the mapping of the inputs to the outputs is achieved by equations describing each of the processes involved, often from first principles, for example, the motion of a projectile in Earth’s gravitational field.\n",
    "In a deterministic model the outcomes are precisely determined through known relationships among states and events, without any room for random variation.\n",
    "\n",
    "\n",
    "### What is a residual ?\n",
    "A measure of how good an empirical model is at each point is the residual.\n",
    "The residual of an observed value is the difference between the observed value and the estimated value.\n",
    "The residual (or fitting deviation) is an observable estimate of the unobservable statistical error."
   ]
  },
  {
   "cell_type": "markdown",
   "metadata": {},
   "source": [
    "## Why is it called non-parametric ?\n",
    "Because we don't make any assumptions regarding the distribution of data. That's is the non-parametric part of \"Multivariate Non-linear non-parametric regression\""
   ]
  },
  {
   "cell_type": "code",
   "execution_count": null,
   "metadata": {},
   "outputs": [],
   "source": []
  },
  {
   "cell_type": "markdown",
   "metadata": {},
   "source": [
    "## Applications of Machine Learning"
   ]
  },
  {
   "cell_type": "markdown",
   "metadata": {},
   "source": [
    "Over the last decade there has been considerable progress in developing a machine learning methodology for a variety of Earth Science applications involving:\n",
    "    - trace gases\n",
    "    - retrievals\n",
    "    - aerosol products\n",
    "    - land surface products\n",
    "    - vegetation indices\n",
    "    - ocean applications\n",
    "\n",
    "> Machine learning allows us to learn by example, and to give our data a voice. It is particularly useful for those applications for which we do not have a complete theory, yet which are of significance. Machine learning is an automated imple- mentation of the scientific method , following the same process of generating, testing, and discarding or refining hypotheses. While a scientist or engineer may spend his entire career coming up with and testing a few hundred hypotheses, a machine-learning system can do the same in a fraction of a second. Machine learning provides an objective set of tools for automating discovery. \n",
    "\n",
    "> Machine learning is now being routinely used to work with large volumes of data in a variety of formats such as image, video, sensor, health records, etc. Machine learning can be used in understanding this data and creating predictive and classification tools. \n",
    "\n",
    "### Regression\n",
    "\n",
    "> When machine learning is used for regression, empirical models are built to predict continuous data, facilitating the prediction of future data points, e.g. algorithmic trading and electricity load forecasting.\n",
    "\n",
    "### Classification\n",
    "\n",
    "> When machine learning is used for classification, empirical models are built to classify the data into different categories, aiding in the more accurately analysis and visualization of the data. Applications of classification include facial recognition, credit scoring, and cancer detection.\n",
    "\n",
    "### Clustering\n",
    "\n",
    "> When machine learning is used for clustering, or unsuper- vised classification, it aids in finding the natural groupings and patterns in data. Applications of clustering include medical imaging, object recognition, and pattern mining. Object recognition is a process for identifying a specific object in a digital image or video. Object recognition algorithms rely on matching, learning, or pattern recognition algorithms using appearance-based or feature-based techniques. These technologies are being used for applications such as driver-less cars, automated skin cancer detection, etc.\n",
    "\n",
    "\n",
    "> When using machine learning we are typically performing one of three tasks:\n",
    "    1. Multivariate non-linear non-parametric regression.\n",
    "    2. Supervised classification.\n",
    "    3. Unsupervised classification.\n",
    "\n",
    "> Each of these `tasks` can be achieved by a variety of different algorithms. Some of the commonly used algorithms include `Neural Networks`, `Support Vector Machines` and `Random Forests`. \n",
    "\n",
    "### Applications of Machine Learning\n",
    "> Bias identification and correction is of particular importance for every single remote sensing instru- ment. Bias correction can also prove to be a particularly challenging issue, one which involves multiple factors.\n",
    "\n",
    "**Wherever we do not have a complete theoritical understanding, there machine learning can be of particular use.**\n",
    "\n",
    "In many areas of remote sensing we have multiple instruments simultaneously observing the earth on a variety of platforms. Many of these sensors may be providing data on the same parameters, such as the surface vegetation, the composition of the atmosphere or ocean.\n"
   ]
  },
  {
   "cell_type": "markdown",
   "metadata": {},
   "source": [
    "Neural Network based Machine Learning. \n",
    "\n",
    "- What is a Perceptron ?\n",
    "    The idea of a perceptron is that there is a single neuron and that neuron can have inputs \n"
   ]
  },
  {
   "cell_type": "markdown",
   "metadata": {},
   "source": [
    "There are now a variety of open source tools that can greatly facilitate the use of machine learning, such as:\n",
    "    - scikit-learn\n",
    "    - TensorFlow\n",
    "    - Caffe\n",
    "    - Spark Mlib\n",
    "Common programming environments used for machine learning include:\n",
    "    - R\n",
    "    - Python\n",
    "    - Matlab\n",
    "\n",
    "Why Matlab ?\n",
    "- Matlab \"matrix laboratory\"\n",
    "- Good documentation\n",
    "- Be able to use GPU\n"
   ]
  },
  {
   "cell_type": "markdown",
   "metadata": {},
   "source": [
    "# What are the three waves of AI ?"
   ]
  },
  {
   "cell_type": "markdown",
   "metadata": {},
   "source": [
    "- Handcrafted knowledge\n",
    "- Statistical Learning\n",
    "- Contextual Adaptation - explaining the model. Explain why you think this is a cat ?"
   ]
  },
  {
   "cell_type": "code",
   "execution_count": null,
   "metadata": {},
   "outputs": [],
   "source": []
  },
  {
   "cell_type": "markdown",
   "metadata": {
    "collapsed": true
   },
   "source": [
    "# What is a neural network ?"
   ]
  },
  {
   "cell_type": "code",
   "execution_count": null,
   "metadata": {},
   "outputs": [],
   "source": []
  },
  {
   "cell_type": "markdown",
   "metadata": {},
   "source": [
    "# What are the ways in which we can handle missing data ?"
   ]
  },
  {
   "cell_type": "code",
   "execution_count": null,
   "metadata": {},
   "outputs": [],
   "source": []
  },
  {
   "cell_type": "code",
   "execution_count": 1,
   "metadata": {},
   "outputs": [],
   "source": [
    "import subprocess"
   ]
  },
  {
   "cell_type": "code",
   "execution_count": 3,
   "metadata": {},
   "outputs": [
    {
     "data": {
      "text/plain": [
       "<subprocess.Popen at 0x112f6df60>"
      ]
     },
     "execution_count": 3,
     "metadata": {},
     "output_type": "execute_result"
    }
   ],
   "source": [
    "subprocess.Popen('ls', shell=True)"
   ]
  },
  {
   "cell_type": "code",
   "execution_count": null,
   "metadata": {},
   "outputs": [],
   "source": []
  },
  {
   "cell_type": "code",
   "execution_count": null,
   "metadata": {},
   "outputs": [],
   "source": []
  }
 ],
 "metadata": {
  "kernelspec": {
   "display_name": "Python 3",
   "language": "python",
   "name": "python3"
  },
  "language_info": {
   "codemirror_mode": {
    "name": "ipython",
    "version": 3
   },
   "file_extension": ".py",
   "mimetype": "text/x-python",
   "name": "python",
   "nbconvert_exporter": "python",
   "pygments_lexer": "ipython3",
   "version": "3.6.5"
  }
 },
 "nbformat": 4,
 "nbformat_minor": 2
}
