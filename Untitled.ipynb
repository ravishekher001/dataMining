{
 "cells": [
  {
   "cell_type": "code",
   "execution_count": 82,
   "metadata": {},
   "outputs": [],
   "source": [
    "import os"
   ]
  },
  {
   "cell_type": "code",
   "execution_count": 83,
   "metadata": {},
   "outputs": [
    {
     "data": {
      "text/plain": [
       "'/Users/Shravan/R/projects/dataMining'"
      ]
     },
     "execution_count": 83,
     "metadata": {},
     "output_type": "execute_result"
    }
   ],
   "source": [
    "os.getcwd()"
   ]
  },
  {
   "cell_type": "code",
   "execution_count": 84,
   "metadata": {},
   "outputs": [
    {
     "data": {
      "text/plain": [
       "['srb.txt',\n",
       " 'unit4',\n",
       " 'Untitled1.ipynb',\n",
       " 'learning.ipynb',\n",
       " 'srb.ipynb',\n",
       " 'ch11-code-new.ipynb',\n",
       " '.DS_Store',\n",
       " 'learning_sklearn.ipynb',\n",
       " 'images',\n",
       " 'Untitled.ipynb',\n",
       " 'unit34',\n",
       " 'learning_sklearn_files',\n",
       " 'learning_dataframes.md',\n",
       " 'applyFunctions.ipynb',\n",
       " 'dummyVariables.md',\n",
       " 'missingValues.ipynb',\n",
       " 'ManipulatingDataFrames.ipynb',\n",
       " 'usingLoc.ipynb',\n",
       " 'CaseStudy2_TimeSeries_skuchkula.ipynb',\n",
       " 'learning_sklearn.md',\n",
       " 'Untitled2.ipynb',\n",
       " 'MachineLearning101.ipynb',\n",
       " 'ManipulatingDataFrames.md',\n",
       " 'pandas_indexes.ipynb',\n",
       " 'README.md',\n",
       " 'carmpgdata_26_clean.csv',\n",
       " 'Case Study 2.ipynb',\n",
       " 'ARIMAS-improved.ipynb',\n",
       " 'pandas_indexes.md',\n",
       " '.ipynb_checkpoints',\n",
       " 'sklearn_linreg.ipynb',\n",
       " 'learning_dataframes.ipynb',\n",
       " '.git',\n",
       " 'dummyVariables.ipynb',\n",
       " 'filteringDataFrames.ipynb',\n",
       " 'columnsInDF.ipynb',\n",
       " 'carsmpg.ipynb']"
      ]
     },
     "execution_count": 84,
     "metadata": {},
     "output_type": "execute_result"
    }
   ],
   "source": [
    "os.listdir(os.getcwd())"
   ]
  },
  {
   "cell_type": "markdown",
   "metadata": {},
   "source": [
    "Find all the files that end in \"ipynb\""
   ]
  },
  {
   "cell_type": "code",
   "execution_count": 85,
   "metadata": {},
   "outputs": [
    {
     "name": "stdout",
     "output_type": "stream",
     "text": [
      "Untitled1.ipynb\n",
      "learning.ipynb\n",
      "srb.ipynb\n",
      "ch11-code-new.ipynb\n",
      "learning_sklearn.ipynb\n",
      "Untitled.ipynb\n",
      "applyFunctions.ipynb\n",
      "missingValues.ipynb\n",
      "ManipulatingDataFrames.ipynb\n",
      "usingLoc.ipynb\n",
      "CaseStudy2_TimeSeries_skuchkula.ipynb\n",
      "Untitled2.ipynb\n",
      "MachineLearning101.ipynb\n",
      "pandas_indexes.ipynb\n",
      "Case Study 2.ipynb\n",
      "ARIMAS-improved.ipynb\n",
      "sklearn_linreg.ipynb\n",
      "learning_dataframes.ipynb\n",
      "dummyVariables.ipynb\n",
      "filteringDataFrames.ipynb\n",
      "columnsInDF.ipynb\n",
      "carsmpg.ipynb\n"
     ]
    }
   ],
   "source": [
    "files = os.listdir(os.getcwd())\n",
    "\n",
    "for f in files:\n",
    "    if f.endswith(\"ipynb\"):\n",
    "        print(f)"
   ]
  },
  {
   "cell_type": "code",
   "execution_count": 4,
   "metadata": {},
   "outputs": [
    {
     "data": {
      "text/plain": [
       "['CLD_CONTINUED',\n",
       " 'CLD_DUMPED',\n",
       " 'CLD_EXITED',\n",
       " 'CLD_TRAPPED',\n",
       " 'DirEntry',\n",
       " 'EX_CANTCREAT',\n",
       " 'EX_CONFIG',\n",
       " 'EX_DATAERR',\n",
       " 'EX_IOERR',\n",
       " 'EX_NOHOST',\n",
       " 'EX_NOINPUT',\n",
       " 'EX_NOPERM',\n",
       " 'EX_NOUSER',\n",
       " 'EX_OK',\n",
       " 'EX_OSERR',\n",
       " 'EX_OSFILE',\n",
       " 'EX_PROTOCOL',\n",
       " 'EX_SOFTWARE',\n",
       " 'EX_TEMPFAIL',\n",
       " 'EX_UNAVAILABLE',\n",
       " 'EX_USAGE',\n",
       " 'F_LOCK',\n",
       " 'F_OK',\n",
       " 'F_TEST',\n",
       " 'F_TLOCK',\n",
       " 'F_ULOCK',\n",
       " 'MutableMapping',\n",
       " 'NGROUPS_MAX',\n",
       " 'O_ACCMODE',\n",
       " 'O_APPEND',\n",
       " 'O_ASYNC',\n",
       " 'O_CLOEXEC',\n",
       " 'O_CREAT',\n",
       " 'O_DIRECTORY',\n",
       " 'O_DSYNC',\n",
       " 'O_EXCL',\n",
       " 'O_EXLOCK',\n",
       " 'O_NDELAY',\n",
       " 'O_NOCTTY',\n",
       " 'O_NOFOLLOW',\n",
       " 'O_NONBLOCK',\n",
       " 'O_RDONLY',\n",
       " 'O_RDWR',\n",
       " 'O_SHLOCK',\n",
       " 'O_SYNC',\n",
       " 'O_TRUNC',\n",
       " 'O_WRONLY',\n",
       " 'PRIO_PGRP',\n",
       " 'PRIO_PROCESS',\n",
       " 'PRIO_USER',\n",
       " 'P_ALL',\n",
       " 'P_NOWAIT',\n",
       " 'P_NOWAITO',\n",
       " 'P_PGID',\n",
       " 'P_PID',\n",
       " 'P_WAIT',\n",
       " 'PathLike',\n",
       " 'RTLD_GLOBAL',\n",
       " 'RTLD_LAZY',\n",
       " 'RTLD_LOCAL',\n",
       " 'RTLD_NODELETE',\n",
       " 'RTLD_NOLOAD',\n",
       " 'RTLD_NOW',\n",
       " 'R_OK',\n",
       " 'SCHED_FIFO',\n",
       " 'SCHED_OTHER',\n",
       " 'SCHED_RR',\n",
       " 'SEEK_CUR',\n",
       " 'SEEK_END',\n",
       " 'SEEK_SET',\n",
       " 'ST_NOSUID',\n",
       " 'ST_RDONLY',\n",
       " 'TMP_MAX',\n",
       " 'WCONTINUED',\n",
       " 'WCOREDUMP',\n",
       " 'WEXITED',\n",
       " 'WEXITSTATUS',\n",
       " 'WIFCONTINUED',\n",
       " 'WIFEXITED',\n",
       " 'WIFSIGNALED',\n",
       " 'WIFSTOPPED',\n",
       " 'WNOHANG',\n",
       " 'WNOWAIT',\n",
       " 'WSTOPPED',\n",
       " 'WSTOPSIG',\n",
       " 'WTERMSIG',\n",
       " 'WUNTRACED',\n",
       " 'W_OK',\n",
       " 'X_OK',\n",
       " '_Environ',\n",
       " '__all__',\n",
       " '__builtins__',\n",
       " '__cached__',\n",
       " '__doc__',\n",
       " '__file__',\n",
       " '__loader__',\n",
       " '__name__',\n",
       " '__package__',\n",
       " '__spec__',\n",
       " '_execvpe',\n",
       " '_exists',\n",
       " '_exit',\n",
       " '_fspath',\n",
       " '_get_exports_list',\n",
       " '_putenv',\n",
       " '_spawnvef',\n",
       " '_unsetenv',\n",
       " '_wrap_close',\n",
       " 'abc',\n",
       " 'abort',\n",
       " 'access',\n",
       " 'altsep',\n",
       " 'chdir',\n",
       " 'chflags',\n",
       " 'chmod',\n",
       " 'chown',\n",
       " 'chroot',\n",
       " 'close',\n",
       " 'closerange',\n",
       " 'confstr',\n",
       " 'confstr_names',\n",
       " 'cpu_count',\n",
       " 'ctermid',\n",
       " 'curdir',\n",
       " 'defpath',\n",
       " 'device_encoding',\n",
       " 'devnull',\n",
       " 'dup',\n",
       " 'dup2',\n",
       " 'environ',\n",
       " 'environb',\n",
       " 'errno',\n",
       " 'error',\n",
       " 'execl',\n",
       " 'execle',\n",
       " 'execlp',\n",
       " 'execlpe',\n",
       " 'execv',\n",
       " 'execve',\n",
       " 'execvp',\n",
       " 'execvpe',\n",
       " 'extsep',\n",
       " 'fchdir',\n",
       " 'fchmod',\n",
       " 'fchown',\n",
       " 'fdopen',\n",
       " 'fork',\n",
       " 'forkpty',\n",
       " 'fpathconf',\n",
       " 'fsdecode',\n",
       " 'fsencode',\n",
       " 'fspath',\n",
       " 'fstat',\n",
       " 'fstatvfs',\n",
       " 'fsync',\n",
       " 'ftruncate',\n",
       " 'get_blocking',\n",
       " 'get_exec_path',\n",
       " 'get_inheritable',\n",
       " 'get_terminal_size',\n",
       " 'getcwd',\n",
       " 'getcwdb',\n",
       " 'getegid',\n",
       " 'getenv',\n",
       " 'getenvb',\n",
       " 'geteuid',\n",
       " 'getgid',\n",
       " 'getgrouplist',\n",
       " 'getgroups',\n",
       " 'getloadavg',\n",
       " 'getlogin',\n",
       " 'getpgid',\n",
       " 'getpgrp',\n",
       " 'getpid',\n",
       " 'getppid',\n",
       " 'getpriority',\n",
       " 'getsid',\n",
       " 'getuid',\n",
       " 'initgroups',\n",
       " 'isatty',\n",
       " 'kill',\n",
       " 'killpg',\n",
       " 'lchflags',\n",
       " 'lchmod',\n",
       " 'lchown',\n",
       " 'linesep',\n",
       " 'link',\n",
       " 'listdir',\n",
       " 'lockf',\n",
       " 'lseek',\n",
       " 'lstat',\n",
       " 'major',\n",
       " 'makedev',\n",
       " 'makedirs',\n",
       " 'minor',\n",
       " 'mkdir',\n",
       " 'mkfifo',\n",
       " 'mknod',\n",
       " 'name',\n",
       " 'nice',\n",
       " 'open',\n",
       " 'openpty',\n",
       " 'pardir',\n",
       " 'path',\n",
       " 'pathconf',\n",
       " 'pathconf_names',\n",
       " 'pathsep',\n",
       " 'pipe',\n",
       " 'popen',\n",
       " 'pread',\n",
       " 'putenv',\n",
       " 'pwrite',\n",
       " 'read',\n",
       " 'readlink',\n",
       " 'readv',\n",
       " 'remove',\n",
       " 'removedirs',\n",
       " 'rename',\n",
       " 'renames',\n",
       " 'replace',\n",
       " 'rmdir',\n",
       " 'scandir',\n",
       " 'sched_get_priority_max',\n",
       " 'sched_get_priority_min',\n",
       " 'sched_yield',\n",
       " 'sendfile',\n",
       " 'sep',\n",
       " 'set_blocking',\n",
       " 'set_inheritable',\n",
       " 'setegid',\n",
       " 'seteuid',\n",
       " 'setgid',\n",
       " 'setgroups',\n",
       " 'setpgid',\n",
       " 'setpgrp',\n",
       " 'setpriority',\n",
       " 'setregid',\n",
       " 'setreuid',\n",
       " 'setsid',\n",
       " 'setuid',\n",
       " 'spawnl',\n",
       " 'spawnle',\n",
       " 'spawnlp',\n",
       " 'spawnlpe',\n",
       " 'spawnv',\n",
       " 'spawnve',\n",
       " 'spawnvp',\n",
       " 'spawnvpe',\n",
       " 'st',\n",
       " 'stat',\n",
       " 'stat_float_times',\n",
       " 'stat_result',\n",
       " 'statvfs',\n",
       " 'statvfs_result',\n",
       " 'strerror',\n",
       " 'supports_bytes_environ',\n",
       " 'supports_dir_fd',\n",
       " 'supports_effective_ids',\n",
       " 'supports_fd',\n",
       " 'supports_follow_symlinks',\n",
       " 'symlink',\n",
       " 'sync',\n",
       " 'sys',\n",
       " 'sysconf',\n",
       " 'sysconf_names',\n",
       " 'system',\n",
       " 'tcgetpgrp',\n",
       " 'tcsetpgrp',\n",
       " 'terminal_size',\n",
       " 'times',\n",
       " 'times_result',\n",
       " 'truncate',\n",
       " 'ttyname',\n",
       " 'umask',\n",
       " 'uname',\n",
       " 'uname_result',\n",
       " 'unlink',\n",
       " 'unsetenv',\n",
       " 'urandom',\n",
       " 'utime',\n",
       " 'wait',\n",
       " 'wait3',\n",
       " 'wait4',\n",
       " 'waitpid',\n",
       " 'walk',\n",
       " 'write',\n",
       " 'writev']"
      ]
     },
     "execution_count": 4,
     "metadata": {},
     "output_type": "execute_result"
    }
   ],
   "source": [
    "dir(os)"
   ]
  },
  {
   "cell_type": "code",
   "execution_count": 5,
   "metadata": {},
   "outputs": [],
   "source": [
    "import subprocess"
   ]
  },
  {
   "cell_type": "code",
   "execution_count": 6,
   "metadata": {},
   "outputs": [
    {
     "data": {
      "text/plain": [
       "['CalledProcessError',\n",
       " 'CompletedProcess',\n",
       " 'DEVNULL',\n",
       " 'PIPE',\n",
       " 'Popen',\n",
       " 'STDOUT',\n",
       " 'SubprocessError',\n",
       " 'TimeoutExpired',\n",
       " '_PIPE_BUF',\n",
       " '_PLATFORM_DEFAULT_CLOSE_FDS',\n",
       " '_PopenSelector',\n",
       " '__all__',\n",
       " '__builtins__',\n",
       " '__cached__',\n",
       " '__doc__',\n",
       " '__file__',\n",
       " '__loader__',\n",
       " '__name__',\n",
       " '__package__',\n",
       " '__spec__',\n",
       " '_active',\n",
       " '_args_from_interpreter_flags',\n",
       " '_cleanup',\n",
       " '_mswindows',\n",
       " '_optim_args_from_interpreter_flags',\n",
       " '_posixsubprocess',\n",
       " '_time',\n",
       " 'builtins',\n",
       " 'call',\n",
       " 'check_call',\n",
       " 'check_output',\n",
       " 'errno',\n",
       " 'getoutput',\n",
       " 'getstatusoutput',\n",
       " 'io',\n",
       " 'list2cmdline',\n",
       " 'os',\n",
       " 'run',\n",
       " 'select',\n",
       " 'selectors',\n",
       " 'signal',\n",
       " 'sys',\n",
       " 'threading',\n",
       " 'time',\n",
       " 'warnings']"
      ]
     },
     "execution_count": 6,
     "metadata": {},
     "output_type": "execute_result"
    }
   ],
   "source": [
    "dir(subprocess)"
   ]
  },
  {
   "cell_type": "code",
   "execution_count": 69,
   "metadata": {},
   "outputs": [],
   "source": [
    "cmd = \"ps -ef | grep python | grep -v grep\"\n",
    "p = subprocess.Popen(cmd, shell=True, stdout=subprocess.PIPE, stdin=subprocess.PIPE)\n",
    "std_out, std_err = p.communicate()"
   ]
  },
  {
   "cell_type": "code",
   "execution_count": 40,
   "metadata": {},
   "outputs": [
    {
     "data": {
      "text/plain": [
       "bytes"
      ]
     },
     "execution_count": 40,
     "metadata": {},
     "output_type": "execute_result"
    }
   ],
   "source": [
    "type(std_out)"
   ]
  },
  {
   "cell_type": "code",
   "execution_count": 43,
   "metadata": {},
   "outputs": [
    {
     "data": {
      "text/plain": [
       "str"
      ]
     },
     "execution_count": 43,
     "metadata": {},
     "output_type": "execute_result"
    }
   ],
   "source": [
    "type(std_out.decode())"
   ]
  },
  {
   "cell_type": "code",
   "execution_count": 46,
   "metadata": {},
   "outputs": [
    {
     "name": "stdout",
     "output_type": "stream",
     "text": [
      "  501 30856 30842   0  7:42PM ??         0:01.54 /Users/Shravan/anaconda3/envs/casestudy1/bin/python -m ipykernel_launcher -f /Users/Shravan/Library/Jupyter/runtime/kernel-0d988fca-6230-47f0-83e2-f0caf0325525.json\n",
      "  501 31140 30856   0  8:16PM ??         0:00.01 /bin/sh -c ps -ef | grep python\n",
      "  501 31142 31140   0  8:16PM ??         0:00.00 grep python\n",
      "  501 30842 11067   0  7:41PM ttys001    0:02.57 /Users/Shravan/anaconda3/envs/casestudy1/bin/python /Users/Shravan/anaconda3/envs/casestudy1/bin/jupyter-notebook\n",
      "\n"
     ]
    }
   ],
   "source": [
    "print(std_out.decode())"
   ]
  },
  {
   "cell_type": "code",
   "execution_count": 59,
   "metadata": {},
   "outputs": [],
   "source": [
    "output = std_out.decode()"
   ]
  },
  {
   "cell_type": "code",
   "execution_count": 62,
   "metadata": {},
   "outputs": [
    {
     "data": {
      "text/plain": [
       "['  501 30856 30842   0  7:42PM ??         0:01.76 /Users/Shravan/anaconda3/envs/casestudy1/bin/python -m ipykernel_launcher -f /Users/Shravan/Library/Jupyter/runtime/kernel-0d988fca-6230-47f0-83e2-f0caf0325525.json',\n",
       " '  501 30842 11067   0  7:41PM ttys001    0:02.91 /Users/Shravan/anaconda3/envs/casestudy1/bin/python /Users/Shravan/anaconda3/envs/casestudy1/bin/jupyter-notebook']"
      ]
     },
     "execution_count": 62,
     "metadata": {},
     "output_type": "execute_result"
    }
   ],
   "source": [
    "output.splitlines()"
   ]
  },
  {
   "cell_type": "code",
   "execution_count": 61,
   "metadata": {},
   "outputs": [
    {
     "data": {
      "text/plain": [
       "2"
      ]
     },
     "execution_count": 61,
     "metadata": {},
     "output_type": "execute_result"
    }
   ],
   "source": [
    "len(output.splitlines())"
   ]
  },
  {
   "cell_type": "code",
   "execution_count": 70,
   "metadata": {},
   "outputs": [
    {
     "data": {
      "text/plain": [
       "0"
      ]
     },
     "execution_count": 70,
     "metadata": {},
     "output_type": "execute_result"
    }
   ],
   "source": [
    "p.returncode"
   ]
  },
  {
   "cell_type": "code",
   "execution_count": 71,
   "metadata": {},
   "outputs": [],
   "source": [
    "import glob"
   ]
  },
  {
   "cell_type": "code",
   "execution_count": 72,
   "metadata": {},
   "outputs": [
    {
     "data": {
      "text/plain": [
       "['__all__',\n",
       " '__builtins__',\n",
       " '__cached__',\n",
       " '__doc__',\n",
       " '__file__',\n",
       " '__loader__',\n",
       " '__name__',\n",
       " '__package__',\n",
       " '__spec__',\n",
       " '_glob0',\n",
       " '_glob1',\n",
       " '_glob2',\n",
       " '_iglob',\n",
       " '_ishidden',\n",
       " '_isrecursive',\n",
       " '_iterdir',\n",
       " '_rlistdir',\n",
       " 'escape',\n",
       " 'fnmatch',\n",
       " 'glob',\n",
       " 'glob0',\n",
       " 'glob1',\n",
       " 'has_magic',\n",
       " 'iglob',\n",
       " 'magic_check',\n",
       " 'magic_check_bytes',\n",
       " 'os',\n",
       " 're']"
      ]
     },
     "execution_count": 72,
     "metadata": {},
     "output_type": "execute_result"
    }
   ],
   "source": [
    "dir(glob)"
   ]
  },
  {
   "cell_type": "code",
   "execution_count": 73,
   "metadata": {},
   "outputs": [
    {
     "data": {
      "text/plain": [
       "['CLD_CONTINUED',\n",
       " 'CLD_DUMPED',\n",
       " 'CLD_EXITED',\n",
       " 'CLD_TRAPPED',\n",
       " 'DirEntry',\n",
       " 'EX_CANTCREAT',\n",
       " 'EX_CONFIG',\n",
       " 'EX_DATAERR',\n",
       " 'EX_IOERR',\n",
       " 'EX_NOHOST',\n",
       " 'EX_NOINPUT',\n",
       " 'EX_NOPERM',\n",
       " 'EX_NOUSER',\n",
       " 'EX_OK',\n",
       " 'EX_OSERR',\n",
       " 'EX_OSFILE',\n",
       " 'EX_PROTOCOL',\n",
       " 'EX_SOFTWARE',\n",
       " 'EX_TEMPFAIL',\n",
       " 'EX_UNAVAILABLE',\n",
       " 'EX_USAGE',\n",
       " 'F_LOCK',\n",
       " 'F_OK',\n",
       " 'F_TEST',\n",
       " 'F_TLOCK',\n",
       " 'F_ULOCK',\n",
       " 'MutableMapping',\n",
       " 'NGROUPS_MAX',\n",
       " 'O_ACCMODE',\n",
       " 'O_APPEND',\n",
       " 'O_ASYNC',\n",
       " 'O_CLOEXEC',\n",
       " 'O_CREAT',\n",
       " 'O_DIRECTORY',\n",
       " 'O_DSYNC',\n",
       " 'O_EXCL',\n",
       " 'O_EXLOCK',\n",
       " 'O_NDELAY',\n",
       " 'O_NOCTTY',\n",
       " 'O_NOFOLLOW',\n",
       " 'O_NONBLOCK',\n",
       " 'O_RDONLY',\n",
       " 'O_RDWR',\n",
       " 'O_SHLOCK',\n",
       " 'O_SYNC',\n",
       " 'O_TRUNC',\n",
       " 'O_WRONLY',\n",
       " 'PRIO_PGRP',\n",
       " 'PRIO_PROCESS',\n",
       " 'PRIO_USER',\n",
       " 'P_ALL',\n",
       " 'P_NOWAIT',\n",
       " 'P_NOWAITO',\n",
       " 'P_PGID',\n",
       " 'P_PID',\n",
       " 'P_WAIT',\n",
       " 'PathLike',\n",
       " 'RTLD_GLOBAL',\n",
       " 'RTLD_LAZY',\n",
       " 'RTLD_LOCAL',\n",
       " 'RTLD_NODELETE',\n",
       " 'RTLD_NOLOAD',\n",
       " 'RTLD_NOW',\n",
       " 'R_OK',\n",
       " 'SCHED_FIFO',\n",
       " 'SCHED_OTHER',\n",
       " 'SCHED_RR',\n",
       " 'SEEK_CUR',\n",
       " 'SEEK_END',\n",
       " 'SEEK_SET',\n",
       " 'ST_NOSUID',\n",
       " 'ST_RDONLY',\n",
       " 'TMP_MAX',\n",
       " 'WCONTINUED',\n",
       " 'WCOREDUMP',\n",
       " 'WEXITED',\n",
       " 'WEXITSTATUS',\n",
       " 'WIFCONTINUED',\n",
       " 'WIFEXITED',\n",
       " 'WIFSIGNALED',\n",
       " 'WIFSTOPPED',\n",
       " 'WNOHANG',\n",
       " 'WNOWAIT',\n",
       " 'WSTOPPED',\n",
       " 'WSTOPSIG',\n",
       " 'WTERMSIG',\n",
       " 'WUNTRACED',\n",
       " 'W_OK',\n",
       " 'X_OK',\n",
       " '_Environ',\n",
       " '__all__',\n",
       " '__builtins__',\n",
       " '__cached__',\n",
       " '__doc__',\n",
       " '__file__',\n",
       " '__loader__',\n",
       " '__name__',\n",
       " '__package__',\n",
       " '__spec__',\n",
       " '_execvpe',\n",
       " '_exists',\n",
       " '_exit',\n",
       " '_fspath',\n",
       " '_get_exports_list',\n",
       " '_putenv',\n",
       " '_spawnvef',\n",
       " '_unsetenv',\n",
       " '_wrap_close',\n",
       " 'abc',\n",
       " 'abort',\n",
       " 'access',\n",
       " 'altsep',\n",
       " 'chdir',\n",
       " 'chflags',\n",
       " 'chmod',\n",
       " 'chown',\n",
       " 'chroot',\n",
       " 'close',\n",
       " 'closerange',\n",
       " 'confstr',\n",
       " 'confstr_names',\n",
       " 'cpu_count',\n",
       " 'ctermid',\n",
       " 'curdir',\n",
       " 'defpath',\n",
       " 'device_encoding',\n",
       " 'devnull',\n",
       " 'dup',\n",
       " 'dup2',\n",
       " 'environ',\n",
       " 'environb',\n",
       " 'errno',\n",
       " 'error',\n",
       " 'execl',\n",
       " 'execle',\n",
       " 'execlp',\n",
       " 'execlpe',\n",
       " 'execv',\n",
       " 'execve',\n",
       " 'execvp',\n",
       " 'execvpe',\n",
       " 'extsep',\n",
       " 'fchdir',\n",
       " 'fchmod',\n",
       " 'fchown',\n",
       " 'fdopen',\n",
       " 'fork',\n",
       " 'forkpty',\n",
       " 'fpathconf',\n",
       " 'fsdecode',\n",
       " 'fsencode',\n",
       " 'fspath',\n",
       " 'fstat',\n",
       " 'fstatvfs',\n",
       " 'fsync',\n",
       " 'ftruncate',\n",
       " 'get_blocking',\n",
       " 'get_exec_path',\n",
       " 'get_inheritable',\n",
       " 'get_terminal_size',\n",
       " 'getcwd',\n",
       " 'getcwdb',\n",
       " 'getegid',\n",
       " 'getenv',\n",
       " 'getenvb',\n",
       " 'geteuid',\n",
       " 'getgid',\n",
       " 'getgrouplist',\n",
       " 'getgroups',\n",
       " 'getloadavg',\n",
       " 'getlogin',\n",
       " 'getpgid',\n",
       " 'getpgrp',\n",
       " 'getpid',\n",
       " 'getppid',\n",
       " 'getpriority',\n",
       " 'getsid',\n",
       " 'getuid',\n",
       " 'initgroups',\n",
       " 'isatty',\n",
       " 'kill',\n",
       " 'killpg',\n",
       " 'lchflags',\n",
       " 'lchmod',\n",
       " 'lchown',\n",
       " 'linesep',\n",
       " 'link',\n",
       " 'listdir',\n",
       " 'lockf',\n",
       " 'lseek',\n",
       " 'lstat',\n",
       " 'major',\n",
       " 'makedev',\n",
       " 'makedirs',\n",
       " 'minor',\n",
       " 'mkdir',\n",
       " 'mkfifo',\n",
       " 'mknod',\n",
       " 'name',\n",
       " 'nice',\n",
       " 'open',\n",
       " 'openpty',\n",
       " 'pardir',\n",
       " 'path',\n",
       " 'pathconf',\n",
       " 'pathconf_names',\n",
       " 'pathsep',\n",
       " 'pipe',\n",
       " 'popen',\n",
       " 'pread',\n",
       " 'putenv',\n",
       " 'pwrite',\n",
       " 'read',\n",
       " 'readlink',\n",
       " 'readv',\n",
       " 'remove',\n",
       " 'removedirs',\n",
       " 'rename',\n",
       " 'renames',\n",
       " 'replace',\n",
       " 'rmdir',\n",
       " 'scandir',\n",
       " 'sched_get_priority_max',\n",
       " 'sched_get_priority_min',\n",
       " 'sched_yield',\n",
       " 'sendfile',\n",
       " 'sep',\n",
       " 'set_blocking',\n",
       " 'set_inheritable',\n",
       " 'setegid',\n",
       " 'seteuid',\n",
       " 'setgid',\n",
       " 'setgroups',\n",
       " 'setpgid',\n",
       " 'setpgrp',\n",
       " 'setpriority',\n",
       " 'setregid',\n",
       " 'setreuid',\n",
       " 'setsid',\n",
       " 'setuid',\n",
       " 'spawnl',\n",
       " 'spawnle',\n",
       " 'spawnlp',\n",
       " 'spawnlpe',\n",
       " 'spawnv',\n",
       " 'spawnve',\n",
       " 'spawnvp',\n",
       " 'spawnvpe',\n",
       " 'st',\n",
       " 'stat',\n",
       " 'stat_float_times',\n",
       " 'stat_result',\n",
       " 'statvfs',\n",
       " 'statvfs_result',\n",
       " 'strerror',\n",
       " 'supports_bytes_environ',\n",
       " 'supports_dir_fd',\n",
       " 'supports_effective_ids',\n",
       " 'supports_fd',\n",
       " 'supports_follow_symlinks',\n",
       " 'symlink',\n",
       " 'sync',\n",
       " 'sys',\n",
       " 'sysconf',\n",
       " 'sysconf_names',\n",
       " 'system',\n",
       " 'tcgetpgrp',\n",
       " 'tcsetpgrp',\n",
       " 'terminal_size',\n",
       " 'times',\n",
       " 'times_result',\n",
       " 'truncate',\n",
       " 'ttyname',\n",
       " 'umask',\n",
       " 'uname',\n",
       " 'uname_result',\n",
       " 'unlink',\n",
       " 'unsetenv',\n",
       " 'urandom',\n",
       " 'utime',\n",
       " 'wait',\n",
       " 'wait3',\n",
       " 'wait4',\n",
       " 'waitpid',\n",
       " 'walk',\n",
       " 'write',\n",
       " 'writev']"
      ]
     },
     "execution_count": 73,
     "metadata": {},
     "output_type": "execute_result"
    }
   ],
   "source": [
    "dir(glob.os)"
   ]
  },
  {
   "cell_type": "code",
   "execution_count": 74,
   "metadata": {},
   "outputs": [
    {
     "data": {
      "text/plain": [
       "'/Users/Shravan/R/projects/dataMining'"
      ]
     },
     "execution_count": 74,
     "metadata": {},
     "output_type": "execute_result"
    }
   ],
   "source": [
    "glob.os.getcwd()"
   ]
  },
  {
   "cell_type": "code",
   "execution_count": 75,
   "metadata": {},
   "outputs": [
    {
     "data": {
      "text/plain": [
       "['srb.txt',\n",
       " 'unit4',\n",
       " 'Untitled1.ipynb',\n",
       " 'learning.ipynb',\n",
       " 'srb.ipynb',\n",
       " 'ch11-code-new.ipynb',\n",
       " '.DS_Store',\n",
       " 'learning_sklearn.ipynb',\n",
       " 'images',\n",
       " 'Untitled.ipynb',\n",
       " 'unit34',\n",
       " 'learning_sklearn_files',\n",
       " 'learning_dataframes.md',\n",
       " 'applyFunctions.ipynb',\n",
       " 'dummyVariables.md',\n",
       " 'missingValues.ipynb',\n",
       " 'ManipulatingDataFrames.ipynb',\n",
       " 'usingLoc.ipynb',\n",
       " 'CaseStudy2_TimeSeries_skuchkula.ipynb',\n",
       " 'learning_sklearn.md',\n",
       " 'Untitled2.ipynb',\n",
       " 'MachineLearning101.ipynb',\n",
       " 'ManipulatingDataFrames.md',\n",
       " 'pandas_indexes.ipynb',\n",
       " 'README.md',\n",
       " 'carmpgdata_26_clean.csv',\n",
       " 'Case Study 2.ipynb',\n",
       " 'ARIMAS-improved.ipynb',\n",
       " 'pandas_indexes.md',\n",
       " '.ipynb_checkpoints',\n",
       " 'sklearn_linreg.ipynb',\n",
       " 'learning_dataframes.ipynb',\n",
       " '.git',\n",
       " 'dummyVariables.ipynb',\n",
       " 'filteringDataFrames.ipynb',\n",
       " 'columnsInDF.ipynb',\n",
       " 'carsmpg.ipynb']"
      ]
     },
     "execution_count": 75,
     "metadata": {},
     "output_type": "execute_result"
    }
   ],
   "source": [
    "glob.os.listdir()"
   ]
  },
  {
   "cell_type": "code",
   "execution_count": 81,
   "metadata": {},
   "outputs": [
    {
     "data": {
      "text/plain": [
       "['/Users/Shravan/R/projects/dataMining/Untitled1.ipynb',\n",
       " '/Users/Shravan/R/projects/dataMining/learning.ipynb',\n",
       " '/Users/Shravan/R/projects/dataMining/srb.ipynb',\n",
       " '/Users/Shravan/R/projects/dataMining/ch11-code-new.ipynb',\n",
       " '/Users/Shravan/R/projects/dataMining/learning_sklearn.ipynb',\n",
       " '/Users/Shravan/R/projects/dataMining/Untitled.ipynb',\n",
       " '/Users/Shravan/R/projects/dataMining/applyFunctions.ipynb',\n",
       " '/Users/Shravan/R/projects/dataMining/missingValues.ipynb',\n",
       " '/Users/Shravan/R/projects/dataMining/ManipulatingDataFrames.ipynb',\n",
       " '/Users/Shravan/R/projects/dataMining/usingLoc.ipynb',\n",
       " '/Users/Shravan/R/projects/dataMining/CaseStudy2_TimeSeries_skuchkula.ipynb',\n",
       " '/Users/Shravan/R/projects/dataMining/Untitled2.ipynb',\n",
       " '/Users/Shravan/R/projects/dataMining/MachineLearning101.ipynb',\n",
       " '/Users/Shravan/R/projects/dataMining/pandas_indexes.ipynb',\n",
       " '/Users/Shravan/R/projects/dataMining/Case Study 2.ipynb',\n",
       " '/Users/Shravan/R/projects/dataMining/ARIMAS-improved.ipynb',\n",
       " '/Users/Shravan/R/projects/dataMining/sklearn_linreg.ipynb',\n",
       " '/Users/Shravan/R/projects/dataMining/learning_dataframes.ipynb',\n",
       " '/Users/Shravan/R/projects/dataMining/dummyVariables.ipynb',\n",
       " '/Users/Shravan/R/projects/dataMining/filteringDataFrames.ipynb',\n",
       " '/Users/Shravan/R/projects/dataMining/columnsInDF.ipynb',\n",
       " '/Users/Shravan/R/projects/dataMining/carsmpg.ipynb']"
      ]
     },
     "execution_count": 81,
     "metadata": {},
     "output_type": "execute_result"
    }
   ],
   "source": [
    "glob.glob(glob.os.getcwd() + '/*.ipynb')"
   ]
  },
  {
   "cell_type": "code",
   "execution_count": 80,
   "metadata": {},
   "outputs": [
    {
     "data": {
      "text/plain": [
       "'/Users/Shravan/R/projects/dataMining/*.ipynb'"
      ]
     },
     "execution_count": 80,
     "metadata": {},
     "output_type": "execute_result"
    }
   ],
   "source": [
    "glob.os.getcwd() + '/*.ipynb'"
   ]
  },
  {
   "cell_type": "code",
   "execution_count": 86,
   "metadata": {},
   "outputs": [],
   "source": [
    "import logging"
   ]
  },
  {
   "cell_type": "code",
   "execution_count": 87,
   "metadata": {},
   "outputs": [
    {
     "data": {
      "text/plain": [
       "['BASIC_FORMAT',\n",
       " 'BufferingFormatter',\n",
       " 'CRITICAL',\n",
       " 'DEBUG',\n",
       " 'ERROR',\n",
       " 'FATAL',\n",
       " 'FileHandler',\n",
       " 'Filter',\n",
       " 'Filterer',\n",
       " 'Formatter',\n",
       " 'Handler',\n",
       " 'INFO',\n",
       " 'LogRecord',\n",
       " 'Logger',\n",
       " 'LoggerAdapter',\n",
       " 'Manager',\n",
       " 'NOTSET',\n",
       " 'NullHandler',\n",
       " 'PercentStyle',\n",
       " 'PlaceHolder',\n",
       " 'RootLogger',\n",
       " 'StrFormatStyle',\n",
       " 'StreamHandler',\n",
       " 'StringTemplateStyle',\n",
       " 'Template',\n",
       " 'WARN',\n",
       " 'WARNING',\n",
       " '_STYLES',\n",
       " '_StderrHandler',\n",
       " '__all__',\n",
       " '__author__',\n",
       " '__builtins__',\n",
       " '__cached__',\n",
       " '__date__',\n",
       " '__doc__',\n",
       " '__file__',\n",
       " '__loader__',\n",
       " '__name__',\n",
       " '__package__',\n",
       " '__path__',\n",
       " '__spec__',\n",
       " '__status__',\n",
       " '__version__',\n",
       " '_acquireLock',\n",
       " '_addHandlerRef',\n",
       " '_checkLevel',\n",
       " '_defaultFormatter',\n",
       " '_defaultLastResort',\n",
       " '_handlerList',\n",
       " '_handlers',\n",
       " '_levelToName',\n",
       " '_lock',\n",
       " '_logRecordFactory',\n",
       " '_loggerClass',\n",
       " '_nameToLevel',\n",
       " '_releaseLock',\n",
       " '_removeHandlerRef',\n",
       " '_showwarning',\n",
       " '_srcfile',\n",
       " '_startTime',\n",
       " '_warnings_showwarning',\n",
       " 'addLevelName',\n",
       " 'atexit',\n",
       " 'basicConfig',\n",
       " 'captureWarnings',\n",
       " 'collections',\n",
       " 'critical',\n",
       " 'currentframe',\n",
       " 'debug',\n",
       " 'disable',\n",
       " 'error',\n",
       " 'exception',\n",
       " 'fatal',\n",
       " 'getLevelName',\n",
       " 'getLogRecordFactory',\n",
       " 'getLogger',\n",
       " 'getLoggerClass',\n",
       " 'handlers',\n",
       " 'info',\n",
       " 'io',\n",
       " 'lastResort',\n",
       " 'log',\n",
       " 'logMultiprocessing',\n",
       " 'logProcesses',\n",
       " 'logThreads',\n",
       " 'makeLogRecord',\n",
       " 'os',\n",
       " 'raiseExceptions',\n",
       " 'root',\n",
       " 'setLogRecordFactory',\n",
       " 'setLoggerClass',\n",
       " 'shutdown',\n",
       " 'sys',\n",
       " 'threading',\n",
       " 'time',\n",
       " 'traceback',\n",
       " 'warn',\n",
       " 'warning',\n",
       " 'warnings',\n",
       " 'weakref']"
      ]
     },
     "execution_count": 87,
     "metadata": {},
     "output_type": "execute_result"
    }
   ],
   "source": [
    "dir(logging)"
   ]
  },
  {
   "cell_type": "code",
   "execution_count": 96,
   "metadata": {},
   "outputs": [],
   "source": [
    "# setup the logging level\n",
    "logging.basicConfig(level=logging.DEBUG, format='%(asctime)s:%(levelname)s:%(message)s')"
   ]
  },
  {
   "cell_type": "code",
   "execution_count": null,
   "metadata": {},
   "outputs": [],
   "source": []
  },
  {
   "cell_type": "code",
   "execution_count": 97,
   "metadata": {},
   "outputs": [
    {
     "name": "stderr",
     "output_type": "stream",
     "text": [
      "DEBUG:root:Hello Logging\n"
     ]
    }
   ],
   "source": [
    "logging.debug(\"Hello Logging\")"
   ]
  },
  {
   "cell_type": "code",
   "execution_count": 95,
   "metadata": {},
   "outputs": [
    {
     "name": "stderr",
     "output_type": "stream",
     "text": [
      "INFO:root:This is INFO level\n"
     ]
    }
   ],
   "source": [
    "logging.info(\"This is INFO level\")"
   ]
  },
  {
   "cell_type": "code",
   "execution_count": null,
   "metadata": {},
   "outputs": [],
   "source": []
  },
  {
   "cell_type": "code",
   "execution_count": null,
   "metadata": {},
   "outputs": [],
   "source": []
  }
 ],
 "metadata": {
  "kernelspec": {
   "display_name": "Python 3",
   "language": "python",
   "name": "python3"
  },
  "language_info": {
   "codemirror_mode": {
    "name": "ipython",
    "version": 3
   },
   "file_extension": ".py",
   "mimetype": "text/x-python",
   "name": "python",
   "nbconvert_exporter": "python",
   "pygments_lexer": "ipython3",
   "version": "3.6.5"
  }
 },
 "nbformat": 4,
 "nbformat_minor": 2
}
