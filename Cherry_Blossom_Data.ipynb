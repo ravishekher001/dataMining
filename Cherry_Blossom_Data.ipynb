{
 "cells": [
  {
   "cell_type": "code",
   "execution_count": 2,
   "metadata": {},
   "outputs": [],
   "source": []
  },
  {
   "cell_type": "code",
   "execution_count": 3,
   "metadata": {},
   "outputs": [
    {
     "name": "stderr",
     "output_type": "stream",
     "text": [
      "Warning message:\n",
      "\"package 'XML' was built under R version 3.4.4\""
     ]
    }
   ],
   "source": [
    "library(XML)\n",
    "ubase = \"http://www.cherryblossom.org/\""
   ]
  },
  {
   "cell_type": "code",
   "execution_count": 4,
   "metadata": {},
   "outputs": [
    {
     "data": {
      "text/html": [
       "<ol class=list-inline>\n",
       "\t<li>'http://www.cherryblossom.org/results/1999/cb99m.html'</li>\n",
       "\t<li>'http://www.cherryblossom.org/results/2000/Cb003m.htm'</li>\n",
       "\t<li>'http://www.cherryblossom.org/results/2001/oof_m.html'</li>\n",
       "</ol>\n"
      ],
      "text/latex": [
       "\\begin{enumerate*}\n",
       "\\item 'http://www.cherryblossom.org/results/1999/cb99m.html'\n",
       "\\item 'http://www.cherryblossom.org/results/2000/Cb003m.htm'\n",
       "\\item 'http://www.cherryblossom.org/results/2001/oof\\_m.html'\n",
       "\\end{enumerate*}\n"
      ],
      "text/markdown": [
       "1. 'http://www.cherryblossom.org/results/1999/cb99m.html'\n",
       "2. 'http://www.cherryblossom.org/results/2000/Cb003m.htm'\n",
       "3. 'http://www.cherryblossom.org/results/2001/oof_m.html'\n",
       "\n",
       "\n"
      ],
      "text/plain": [
       "[1] \"http://www.cherryblossom.org/results/1999/cb99m.html\"\n",
       "[2] \"http://www.cherryblossom.org/results/2000/Cb003m.htm\"\n",
       "[3] \"http://www.cherryblossom.org/results/2001/oof_m.html\""
      ]
     },
     "metadata": {},
     "output_type": "display_data"
    }
   ],
   "source": [
    "#note that the first two urls differ from the book!!\n",
    "menURLs = \n",
    "  c(\"results/1999/cb99m.html\", \"results/2000/Cb003m.htm\", \"results/2001/oof_m.html\",\n",
    "    \"results/2002/oofm.htm\", \"results/2003/CB03-M.HTM\",\n",
    "    \"results/2004/men.htm\", \"results/2005/CB05-M.htm\", \n",
    "    \"results/2006/men.htm\", \"results/2007/men.htm\", \n",
    "    \"results/2008/men.htm\", \"results/2009/09cucb-M.htm\",\n",
    "    \"results/2010/2010cucb10m-m.htm\", \n",
    "    \"results/2011/2011cucb10m-m.htm\",\n",
    "    \"results/2012/2012cucb10m-m.htm\")\n",
    "\n",
    "urls = paste(ubase, menURLs, sep = \"\")\n",
    "\n",
    "urls[1:3]"
   ]
  },
  {
   "cell_type": "code",
   "execution_count": null,
   "metadata": {},
   "outputs": [],
   "source": []
  },
  {
   "cell_type": "code",
   "execution_count": null,
   "metadata": {},
   "outputs": [],
   "source": []
  },
  {
   "cell_type": "code",
   "execution_count": null,
   "metadata": {},
   "outputs": [],
   "source": []
  },
  {
   "cell_type": "code",
   "execution_count": null,
   "metadata": {},
   "outputs": [],
   "source": []
  },
  {
   "cell_type": "code",
   "execution_count": null,
   "metadata": {},
   "outputs": [],
   "source": [
    "#Modified function that works with year 1999 now.\n",
    "extractResTable =\n",
    "  #\n",
    "  # Retrieve data from web site, \n",
    "  # find the preformatted text,\n",
    "  # and write lines or return as a character vector.\n",
    "  #\n",
    "  function(url = \"http://www.cherryblossom.org/results/2009/09cucb-F.htm\",\n",
    "           year = 1999, sex = \"male\", file = NULL)\n",
    "  {\n",
    "    doc = htmlParse(url)\n",
    "\n",
    "    if (year == 2000) {\n",
    "      # Get preformatted text from 4th font element\n",
    "      # The top file is ill formed so the <pre> search doesn't work.\n",
    "      ff = getNodeSet(doc, \"//font\")\n",
    "      txt = xmlValue(ff[[4]])\n",
    "      els = strsplit(txt, \"\\r\\n\")[[1]]\n",
    "    }\n",
    "    else if (year == 2009 & sex == \"male\") {\n",
    "      # Get preformatted text from <div class=\"Section1\"> element\n",
    "      # Each line of results is in a <pre> element\n",
    "      div1 = getNodeSet(doc, \"//div[@class='Section1']\")\n",
    "      pres = getNodeSet(div1[[1]], \"//pre\")\n",
    "      els = sapply(pres, xmlValue)\n",
    "    }\n",
    "     else if (year == 1999) {\n",
    "               # Get preformatted text from <pre> elements\n",
    "      pres = getNodeSet(doc, \"//pre\")\n",
    "      txt = xmlValue(pres[[1]])\n",
    "      els = strsplit(txt, \"\\n\")[[1]]  \n",
    "     } \n",
    "    else {\n",
    "      # Get preformatted text from <pre> elements\n",
    "      pres = getNodeSet(doc, \"//pre\")\n",
    "      txt = xmlValue(pres[[1]])\n",
    "      els = strsplit(txt, \"\\r\\n\")[[1]]   \n",
    "    } \n",
    "    \n",
    "    if (is.null(file)) return(els)\n",
    "    # Write the lines as a text file.\n",
    "    writeLines(els, con = file)\n",
    "  }"
   ]
  },
  {
   "cell_type": "code",
   "execution_count": 49,
   "metadata": {},
   "outputs": [
    {
     "data": {
      "text/html": [
       "<dl class=dl-horizontal>\n",
       "\t<dt>1999</dt>\n",
       "\t\t<dd>3193</dd>\n",
       "\t<dt>2000</dt>\n",
       "\t\t<dd>3019</dd>\n",
       "\t<dt>2001</dt>\n",
       "\t\t<dd>3627</dd>\n",
       "\t<dt>2002</dt>\n",
       "\t\t<dd>3727</dd>\n",
       "\t<dt>2003</dt>\n",
       "\t\t<dd>3951</dd>\n",
       "\t<dt>2004</dt>\n",
       "\t\t<dd>4164</dd>\n",
       "\t<dt>2005</dt>\n",
       "\t\t<dd>4335</dd>\n",
       "\t<dt>2006</dt>\n",
       "\t\t<dd>5245</dd>\n",
       "\t<dt>2007</dt>\n",
       "\t\t<dd>5283</dd>\n",
       "\t<dt>2008</dt>\n",
       "\t\t<dd>5913</dd>\n",
       "\t<dt>2009</dt>\n",
       "\t\t<dd>6659</dd>\n",
       "\t<dt>2010</dt>\n",
       "\t\t<dd>6919</dd>\n",
       "\t<dt>2011</dt>\n",
       "\t\t<dd>7019</dd>\n",
       "\t<dt>2012</dt>\n",
       "\t\t<dd>7201</dd>\n",
       "</dl>\n"
      ],
      "text/latex": [
       "\\begin{description*}\n",
       "\\item[1999] 3193\n",
       "\\item[2000] 3019\n",
       "\\item[2001] 3627\n",
       "\\item[2002] 3727\n",
       "\\item[2003] 3951\n",
       "\\item[2004] 4164\n",
       "\\item[2005] 4335\n",
       "\\item[2006] 5245\n",
       "\\item[2007] 5283\n",
       "\\item[2008] 5913\n",
       "\\item[2009] 6659\n",
       "\\item[2010] 6919\n",
       "\\item[2011] 7019\n",
       "\\item[2012] 7201\n",
       "\\end{description*}\n"
      ],
      "text/markdown": [
       "1999\n",
       ":   31932000\n",
       ":   30192001\n",
       ":   36272002\n",
       ":   37272003\n",
       ":   39512004\n",
       ":   41642005\n",
       ":   43352006\n",
       ":   52452007\n",
       ":   52832008\n",
       ":   59132009\n",
       ":   66592010\n",
       ":   69192011\n",
       ":   70192012\n",
       ":   7201\n",
       "\n"
      ],
      "text/plain": [
       "1999 2000 2001 2002 2003 2004 2005 2006 2007 2008 2009 2010 2011 2012 \n",
       "3193 3019 3627 3727 3951 4164 4335 5245 5283 5913 6659 6919 7019 7201 "
      ]
     },
     "metadata": {},
     "output_type": "display_data"
    }
   ],
   "source": [
    "years = 1999:2012\n",
    "menTables = mapply(extractResTable, url = urls, year = years)\n",
    "names(menTables) = years\n",
    "sapply(menTables, length)"
   ]
  },
  {
   "cell_type": "code",
   "execution_count": 6,
   "metadata": {},
   "outputs": [
    {
     "data": {
      "text/html": [
       "<ol class=list-inline>\n",
       "\t<li><span style=white-space:pre-wrap>'PLACE DIV /TOT  NUM   NAME                  AG HOMETOWN           GUN TIM  NET TIM '</span></li>\n",
       "\t<li><span style=white-space:pre-wrap>'===== ========= ===== ===================== == ================== =======  ======= '</span></li>\n",
       "\t<li><span style=white-space:pre-wrap>'    1    1/1503    12 Reuben Cheruiyot      26 Kenya                46:07#   46:06 '</span></li>\n",
       "\t<li><span style=white-space:pre-wrap>'    2    2/1503     4 Joseph Kimani         27 Kenya                46:10#   46:08 '</span></li>\n",
       "\t<li><span style=white-space:pre-wrap>'    3    3/1503    34 John Korir            24 Kenya                46:19#   46:19 '</span></li>\n",
       "\t<li><span style=white-space:pre-wrap>'    4    4/1503     5 Domenic Kirui         32 Kenya                46:21#   46:19 '</span></li>\n",
       "\t<li><span style=white-space:pre-wrap>'    5    5/1503    33 Joshua Chelanga       26 Kenya                46:25#   46:24 '</span></li>\n",
       "\t<li><span style=white-space:pre-wrap>'    6    6/1503     9 David Makori          26 Kenya                46:57#   46:56 '</span></li>\n",
       "\t<li><span style=white-space:pre-wrap>'    7    7/1503    10 Philip Kurui          26 Kenya                47:31#   47:31 '</span></li>\n",
       "\t<li><span style=white-space:pre-wrap>'    8    8/1503    30 Felix Limo            19 Kenya                47:31#   47:31 '</span></li>\n",
       "</ol>\n"
      ],
      "text/latex": [
       "\\begin{enumerate*}\n",
       "\\item 'PLACE DIV /TOT  NUM   NAME                  AG HOMETOWN           GUN TIM  NET TIM '\n",
       "\\item '===== ========= ===== ===================== == ================== =======  ======= '\n",
       "\\item '    1    1/1503    12 Reuben Cheruiyot      26 Kenya                46:07\\#   46:06 '\n",
       "\\item '    2    2/1503     4 Joseph Kimani         27 Kenya                46:10\\#   46:08 '\n",
       "\\item '    3    3/1503    34 John Korir            24 Kenya                46:19\\#   46:19 '\n",
       "\\item '    4    4/1503     5 Domenic Kirui         32 Kenya                46:21\\#   46:19 '\n",
       "\\item '    5    5/1503    33 Joshua Chelanga       26 Kenya                46:25\\#   46:24 '\n",
       "\\item '    6    6/1503     9 David Makori          26 Kenya                46:57\\#   46:56 '\n",
       "\\item '    7    7/1503    10 Philip Kurui          26 Kenya                47:31\\#   47:31 '\n",
       "\\item '    8    8/1503    30 Felix Limo            19 Kenya                47:31\\#   47:31 '\n",
       "\\end{enumerate*}\n"
      ],
      "text/markdown": [
       "1. <span style=white-space:pre-wrap>'PLACE DIV /TOT  NUM   NAME                  AG HOMETOWN           GUN TIM  NET TIM '</span>\n",
       "2. <span style=white-space:pre-wrap>'===== ========= ===== ===================== == ================== =======  ======= '</span>\n",
       "3. <span style=white-space:pre-wrap>'    1    1/1503    12 Reuben Cheruiyot      26 Kenya                46:07#   46:06 '</span>\n",
       "4. <span style=white-space:pre-wrap>'    2    2/1503     4 Joseph Kimani         27 Kenya                46:10#   46:08 '</span>\n",
       "5. <span style=white-space:pre-wrap>'    3    3/1503    34 John Korir            24 Kenya                46:19#   46:19 '</span>\n",
       "6. <span style=white-space:pre-wrap>'    4    4/1503     5 Domenic Kirui         32 Kenya                46:21#   46:19 '</span>\n",
       "7. <span style=white-space:pre-wrap>'    5    5/1503    33 Joshua Chelanga       26 Kenya                46:25#   46:24 '</span>\n",
       "8. <span style=white-space:pre-wrap>'    6    6/1503     9 David Makori          26 Kenya                46:57#   46:56 '</span>\n",
       "9. <span style=white-space:pre-wrap>'    7    7/1503    10 Philip Kurui          26 Kenya                47:31#   47:31 '</span>\n",
       "10. <span style=white-space:pre-wrap>'    8    8/1503    30 Felix Limo            19 Kenya                47:31#   47:31 '</span>\n",
       "\n",
       "\n"
      ],
      "text/plain": [
       " [1] \"PLACE DIV /TOT  NUM   NAME                  AG HOMETOWN           GUN TIM  NET TIM \"\n",
       " [2] \"===== ========= ===== ===================== == ================== =======  ======= \"\n",
       " [3] \"    1    1/1503    12 Reuben Cheruiyot      26 Kenya                46:07#   46:06 \"\n",
       " [4] \"    2    2/1503     4 Joseph Kimani         27 Kenya                46:10#   46:08 \"\n",
       " [5] \"    3    3/1503    34 John Korir            24 Kenya                46:19#   46:19 \"\n",
       " [6] \"    4    4/1503     5 Domenic Kirui         32 Kenya                46:21#   46:19 \"\n",
       " [7] \"    5    5/1503    33 Joshua Chelanga       26 Kenya                46:25#   46:24 \"\n",
       " [8] \"    6    6/1503     9 David Makori          26 Kenya                46:57#   46:56 \"\n",
       " [9] \"    7    7/1503    10 Philip Kurui          26 Kenya                47:31#   47:31 \"\n",
       "[10] \"    8    8/1503    30 Felix Limo            19 Kenya                47:31#   47:31 \""
      ]
     },
     "metadata": {},
     "output_type": "display_data"
    }
   ],
   "source": [
    "#I forgot quotes in class--this is how you access the data.\n",
    "menTables$'2000'[0:10]"
   ]
  },
  {
   "cell_type": "code",
   "execution_count": null,
   "metadata": {},
   "outputs": [],
   "source": []
  }
 ],
 "metadata": {
  "kernelspec": {
   "display_name": "R",
   "language": "R",
   "name": "ir"
  },
  "language_info": {
   "codemirror_mode": "r",
   "file_extension": ".r",
   "mimetype": "text/x-r-source",
   "name": "R",
   "pygments_lexer": "r",
   "version": "3.4.3"
  }
 },
 "nbformat": 4,
 "nbformat_minor": 2
}
